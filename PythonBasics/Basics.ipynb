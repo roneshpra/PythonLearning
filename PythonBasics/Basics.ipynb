{
  "nbformat": 4,
  "nbformat_minor": 0,
  "metadata": {
    "colab": {
      "provenance": [],
      "toc_visible": true,
      "authorship_tag": "ABX9TyPoCBl7/hN/naQSedi605vZ",
      "include_colab_link": true
    },
    "kernelspec": {
      "name": "python3",
      "display_name": "Python 3"
    },
    "language_info": {
      "name": "python"
    }
  },
  "cells": [
    {
      "cell_type": "markdown",
      "metadata": {
        "id": "view-in-github",
        "colab_type": "text"
      },
      "source": [
        "<a href=\"https://colab.research.google.com/github/roneshpra/PythonLearning/blob/Dev/PythonBasics/Basics.ipynb\" target=\"_parent\"><img src=\"https://colab.research.google.com/assets/colab-badge.svg\" alt=\"Open In Colab\"/></a>"
      ]
    },
    {
      "cell_type": "code",
      "execution_count": null,
      "metadata": {
        "colab": {
          "base_uri": "https://localhost:8080/",
          "height": 35
        },
        "id": "Q0IRrTRsuK3Z",
        "outputId": "c0f8a071-2f4f-4c23-cd00-468748c54cbd"
      },
      "outputs": [
        {
          "output_type": "execute_result",
          "data": {
            "text/plain": [
              "'GreatLearning'"
            ],
            "application/vnd.google.colaboratory.intrinsic+json": {
              "type": "string"
            }
          },
          "metadata": {},
          "execution_count": 2
        }
      ],
      "source": [
        "str1 = \"Great\"\n",
        "str2 = \"Learning\"\n",
        "str1 + str2"
      ]
    },
    {
      "cell_type": "markdown",
      "source": [
        "######################\n",
        "#USER INPUT\n",
        "######################"
      ],
      "metadata": {
        "id": "-aldaFixXz3f"
      }
    },
    {
      "cell_type": "code",
      "source": [
        "weight = int(input(\"Enter your weight : \"))\n",
        "print(weight)"
      ],
      "metadata": {
        "colab": {
          "base_uri": "https://localhost:8080/"
        },
        "id": "oneUlXfYX62q",
        "outputId": "6c547b5b-3e2a-46a1-bfec-a52934519cc3"
      },
      "execution_count": 2,
      "outputs": [
        {
          "output_type": "stream",
          "name": "stdout",
          "text": [
            "Enter your weight : 184\n",
            "184\n"
          ]
        }
      ]
    },
    {
      "cell_type": "code",
      "source": [
        "weight = input(\"Enter your weight : \")\n",
        "print(weight)"
      ],
      "metadata": {
        "colab": {
          "base_uri": "https://localhost:8080/"
        },
        "id": "_912KfavZbF7",
        "outputId": "d78f05c7-5e8b-4b4f-d528-9f51404b034b"
      },
      "execution_count": 5,
      "outputs": [
        {
          "output_type": "stream",
          "name": "stdout",
          "text": [
            "Enter your weight : Ron\n",
            "Ron\n"
          ]
        }
      ]
    },
    {
      "cell_type": "code",
      "source": [
        "2**3\n",
        "\n",
        "(14%2)+4"
      ],
      "metadata": {
        "colab": {
          "base_uri": "https://localhost:8080/"
        },
        "id": "SWd17Zj_cL4N",
        "outputId": "bda7128d-23d3-4d03-b49c-74210be90543"
      },
      "execution_count": 7,
      "outputs": [
        {
          "output_type": "execute_result",
          "data": {
            "text/plain": [
              "4"
            ]
          },
          "metadata": {},
          "execution_count": 7
        }
      ]
    },
    {
      "cell_type": "markdown",
      "source": [
        "# + -> addition\n",
        "# - -> subtraction\n",
        "# * -> multiply\n",
        "# ** -> power\n",
        "# / -> division\n",
        "# % -> remainder of division\n",
        "# // -> integer of division\n",
        "\n"
      ],
      "metadata": {
        "id": "Ha1Uwfzvcust"
      }
    },
    {
      "cell_type": "code",
      "source": [
        "a, b, c = 12, 2, 15\n",
        "print(\"a + b = \",a+b)\n",
        "print(\"a - b = \",a-b)\n",
        "print(\"a * b = \",a*b)\n",
        "print(\"a ** b = \",a**b)\n",
        "print(\"a / b = \",a/b)\n",
        "print(\"a % b = \",a%b)\n",
        "print(\"c // b = \",c//b)\n",
        "\n"
      ],
      "metadata": {
        "colab": {
          "base_uri": "https://localhost:8080/"
        },
        "id": "2vy17cfvdUdK",
        "outputId": "d9893134-f5da-466f-b9a7-3e1badf75a79"
      },
      "execution_count": 8,
      "outputs": [
        {
          "output_type": "stream",
          "name": "stdout",
          "text": [
            "a + b =  14\n",
            "a - b =  10\n",
            "a * b =  24\n",
            "a ** b =  144\n",
            "a / b =  6.0\n",
            "a % b =  0\n",
            "c // b =  7\n"
          ]
        }
      ]
    },
    {
      "cell_type": "code",
      "source": [
        "a, b = 7, 9\n",
        "print(\"a greater than b is \", a > b)\n",
        "print(\"a less than b is \", a < b)\n",
        "print(\"a == b is \", a == b)\n",
        "print(\"a != b is \", a != b)\n",
        "print(\"a >= b is \", a >= b)\n",
        "print(\"a <= b is \", a <= b)"
      ],
      "metadata": {
        "colab": {
          "base_uri": "https://localhost:8080/"
        },
        "id": "qDHW459-dUfL",
        "outputId": "6684fab2-a0f5-4dc1-9dd1-5f879c241b69"
      },
      "execution_count": 10,
      "outputs": [
        {
          "output_type": "stream",
          "name": "stdout",
          "text": [
            "a greater than b is  False\n",
            "a less than b is  True\n",
            "a == b is  False\n",
            "a != b is  True\n",
            "a >= b is  False\n",
            "a <= b is  True\n"
          ]
        }
      ]
    },
    {
      "cell_type": "code",
      "source": [
        "a = 5\n",
        "a += 5\n",
        "print(a)\n",
        "a -= 2\n",
        "print(a)\n",
        "a *= 2\n",
        "print(a)\n",
        "a /= 4\n",
        "print(a)"
      ],
      "metadata": {
        "colab": {
          "base_uri": "https://localhost:8080/"
        },
        "id": "mHiprV1FGsXz",
        "outputId": "5db073da-4c9b-4e57-faba-5324e12c6fc9"
      },
      "execution_count": 15,
      "outputs": [
        {
          "output_type": "stream",
          "name": "stdout",
          "text": [
            "10\n",
            "8\n",
            "16\n",
            "4.0\n"
          ]
        }
      ]
    },
    {
      "cell_type": "code",
      "source": [
        "############\n",
        "# Lists ##\n",
        "############\n",
        "family_members  = [\"Ronesh\", \"Pranitha\", \"Tisha\", \"Tara\"]\n",
        "print(family_members[0:3:2])\n",
        "print(family_members[:2])\n",
        "list_of_lists =[[\"Cricket\", \"Football\", \"Baseball\", \"Raquetball\"], [12, 15, 78, 98]]\n",
        "list_of_lists[1]"
      ],
      "metadata": {
        "colab": {
          "base_uri": "https://localhost:8080/"
        },
        "id": "jn3_UC6lJULw",
        "outputId": "76d1943c-f7ba-471c-8396-da7da3c13251"
      },
      "execution_count": 33,
      "outputs": [
        {
          "output_type": "stream",
          "name": "stdout",
          "text": [
            "['Ronesh', 'Tisha']\n",
            "['Ronesh', 'Pranitha']\n"
          ]
        },
        {
          "output_type": "execute_result",
          "data": {
            "text/plain": [
              "[12, 15, 78, 98]"
            ]
          },
          "metadata": {},
          "execution_count": 33
        }
      ]
    },
    {
      "cell_type": "code",
      "source": [
        "### List Methods ###\n",
        "course1 = [\"Data Science\", \"Machine Learning\", \"Python\", \"HTML\", \"Big Data\"]\n",
        "course2 = [\"Statistics\", \"Artficial Intelligence\"]\n",
        "# Add element to list\n",
        "course1.append(course2[0])\n",
        "print(course1)\n",
        "course1.insert(3, \"Java\")\n",
        "print(course1)\n",
        "#course2.extend(\"Artificial Intelligence\")\n",
        "print(course2)"
      ],
      "metadata": {
        "colab": {
          "base_uri": "https://localhost:8080/"
        },
        "id": "t3jILdTxP-WR",
        "outputId": "4318d086-ea3f-4e6a-e95b-07d37c492768"
      },
      "execution_count": 38,
      "outputs": [
        {
          "output_type": "stream",
          "name": "stdout",
          "text": [
            "['Data Science', 'Machine Learning', 'Python', 'HTML', 'Big Data', 'Statistics']\n",
            "['Data Science', 'Machine Learning', 'Python', 'Java', 'HTML', 'Big Data', 'Statistics']\n",
            "['Statistics', 'Artficial Intelligence']\n"
          ]
        }
      ]
    },
    {
      "cell_type": "code",
      "source": [
        "### Conditional Statements ###\n",
        "### if Statement ###\n",
        "\n",
        "my_game = \"Cricket\"\n",
        "my_gamelist = [\"Football\", \"Cricket\", \"Basketball\", \"Baseball\", \"Softball\"]\n",
        "\n",
        "if my_game in my_gamelist:\n",
        "    print(\"I like to play \", my_game)\n",
        "\n",
        "if 'Baseball' in my_gamelist:\n",
        "    print(\"Present in my list\")"
      ],
      "metadata": {
        "colab": {
          "base_uri": "https://localhost:8080/"
        },
        "id": "76rZisJ6USPv",
        "outputId": "07318c13-7ef7-4eca-f844-4df7f8cac7bc"
      },
      "execution_count": 40,
      "outputs": [
        {
          "output_type": "stream",
          "name": "stdout",
          "text": [
            "I like to play  Cricket\n",
            "Present in my list\n"
          ]
        }
      ]
    },
    {
      "cell_type": "code",
      "source": [
        "## if else Statement\n"
      ],
      "metadata": {
        "id": "4S5lnRd-dnZP"
      },
      "execution_count": null,
      "outputs": []
    },
    {
      "cell_type": "code",
      "source": [
        "### Variables & Datatypes ###\n",
        "\n",
        "## Perimeter of Triangle\n",
        "side1 = int(input())\n",
        "side2 = int(input())\n",
        "side3 = int(input())\n",
        "perimeter_triangle = side1+side2+side3\n",
        "print(perimeter_triangle)"
      ],
      "metadata": {
        "colab": {
          "base_uri": "https://localhost:8080/"
        },
        "id": "NSum6awNH2es",
        "outputId": "f952dfff-53b9-4c99-b83f-e84dd4ff9c62"
      },
      "execution_count": 5,
      "outputs": [
        {
          "output_type": "stream",
          "name": "stdout",
          "text": [
            "5\n",
            "3\n",
            "2\n",
            "10\n"
          ]
        }
      ]
    },
    {
      "cell_type": "code",
      "source": [
        "## First 5 elements of Fibonacci series ##\n",
        "a = 0\n",
        "b = 1\n",
        "print(a)\n",
        "print(b)\n",
        "for i in range(1,4):\n",
        "    c = a+b\n",
        "    print(c)\n",
        "    a = b\n",
        "    b = c"
      ],
      "metadata": {
        "colab": {
          "base_uri": "https://localhost:8080/"
        },
        "id": "xHk9mrtcJ6U6",
        "outputId": "46762eb2-e728-4a32-ddde-25c13c129afa"
      },
      "execution_count": 12,
      "outputs": [
        {
          "output_type": "stream",
          "name": "stdout",
          "text": [
            "0\n",
            "1\n",
            "1\n",
            "2\n",
            "3\n"
          ]
        }
      ]
    },
    {
      "cell_type": "code",
      "source": [
        "## Square of the hypotenuse of a right angled triangle ##\n",
        "a = float(input())\n",
        "b = float(input())\n",
        "\n",
        "c = (a**2 + b**2) #**0.5\n",
        "print(c)\n",
        "\n",
        "#c**2 == a**2 + b**2\n",
        "#print(c**2)\n"
      ],
      "metadata": {
        "colab": {
          "base_uri": "https://localhost:8080/"
        },
        "id": "jGgLehrPMor0",
        "outputId": "fe089b63-4e01-4796-e737-c26a1be3d80f"
      },
      "execution_count": 19,
      "outputs": [
        {
          "output_type": "stream",
          "name": "stdout",
          "text": [
            "2\n",
            "3.1\n",
            "2.0 3.1\n",
            "13.610000000000001\n"
          ]
        }
      ]
    },
    {
      "cell_type": "code",
      "source": [
        "s1 = input()\n",
        "s2 = input()\n",
        "\n",
        "\n",
        "# Write your code below\n",
        "\n",
        "print(s1+s2)\n",
        "print(len(s1))"
      ],
      "metadata": {
        "colab": {
          "base_uri": "https://localhost:8080/"
        },
        "id": "UzkxY-V9PaOT",
        "outputId": "41581467-0cbe-47e6-995e-6d0a7c93b0a3"
      },
      "execution_count": 21,
      "outputs": [
        {
          "output_type": "stream",
          "name": "stdout",
          "text": [
            "Hello\n",
            "World\n",
            "HelloWorld\n",
            "5\n"
          ]
        }
      ]
    },
    {
      "cell_type": "code",
      "source": [
        "s = input()\n",
        "n = int(input())\n",
        "\n",
        "s1 = int(s)\n",
        "print(n+s1)\n",
        "print(n+int(s))"
      ],
      "metadata": {
        "colab": {
          "base_uri": "https://localhost:8080/"
        },
        "id": "EtvGAUmMQawF",
        "outputId": "22180fa8-d2b1-4e4b-9404-505b4df7d270"
      },
      "execution_count": 23,
      "outputs": [
        {
          "output_type": "stream",
          "name": "stdout",
          "text": [
            "3\n",
            "2\n",
            "5\n",
            "5\n"
          ]
        }
      ]
    },
    {
      "cell_type": "code",
      "source": [
        "## Area of a circle ##\n",
        "r = float(input())\n",
        "area = 3.14*r*r\n",
        "print(area)"
      ],
      "metadata": {
        "colab": {
          "base_uri": "https://localhost:8080/"
        },
        "id": "0ddQ8EqjRb-S",
        "outputId": "490fc07d-fb17-47a2-e897-f46df179973c"
      },
      "execution_count": 26,
      "outputs": [
        {
          "output_type": "stream",
          "name": "stdout",
          "text": [
            "2.5\n",
            "19.625\n"
          ]
        }
      ]
    },
    {
      "cell_type": "code",
      "source": [
        "## arithmetic Operations ##\n",
        "a = int(input())\n",
        "b = int(input())\n",
        "print(\"Addition of a and b is \", a+b)\n",
        "print(\"Subtaction of a and b is \", a-b)\n",
        "print(\"Multiplication of a and b is \", a*b)\n",
        "print(\"Division of a and b is \", a/b)"
      ],
      "metadata": {
        "colab": {
          "base_uri": "https://localhost:8080/"
        },
        "id": "LNqwRFsfSfW4",
        "outputId": "d5996fca-558a-41fe-e7aa-8acd7889c2a7"
      },
      "execution_count": 27,
      "outputs": [
        {
          "output_type": "stream",
          "name": "stdout",
          "text": [
            "5\n",
            "3\n",
            "Addition of a and b is  8\n",
            "Subtaction of a and b is  2\n",
            "Multiplication of a and b is  15\n",
            "Division of a and b is  1.6666666666666667\n"
          ]
        }
      ]
    },
    {
      "cell_type": "code",
      "source": [],
      "metadata": {
        "id": "2HB2Z26YSfX0"
      },
      "execution_count": null,
      "outputs": []
    }
  ]
}