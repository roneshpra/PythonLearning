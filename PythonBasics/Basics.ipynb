{
  "nbformat": 4,
  "nbformat_minor": 0,
  "metadata": {
    "colab": {
      "provenance": [],
      "toc_visible": true,
      "authorship_tag": "ABX9TyM1RrZO0m2vkbeDcOeHWfDY",
      "include_colab_link": true
    },
    "kernelspec": {
      "name": "python3",
      "display_name": "Python 3"
    },
    "language_info": {
      "name": "python"
    }
  },
  "cells": [
    {
      "cell_type": "markdown",
      "metadata": {
        "id": "view-in-github",
        "colab_type": "text"
      },
      "source": [
        "<a href=\"https://colab.research.google.com/github/roneshpra/PythonLearning/blob/Dev/PythonBasics/Basics.ipynb\" target=\"_parent\"><img src=\"https://colab.research.google.com/assets/colab-badge.svg\" alt=\"Open In Colab\"/></a>"
      ]
    },
    {
      "cell_type": "code",
      "execution_count": null,
      "metadata": {
        "colab": {
          "base_uri": "https://localhost:8080/",
          "height": 35
        },
        "id": "Q0IRrTRsuK3Z",
        "outputId": "c0f8a071-2f4f-4c23-cd00-468748c54cbd"
      },
      "outputs": [
        {
          "output_type": "execute_result",
          "data": {
            "text/plain": [
              "'GreatLearning'"
            ],
            "application/vnd.google.colaboratory.intrinsic+json": {
              "type": "string"
            }
          },
          "metadata": {},
          "execution_count": 2
        }
      ],
      "source": [
        "str1 = \"Great\"\n",
        "str2 = \"Learning\"\n",
        "str1 + str2"
      ]
    },
    {
      "cell_type": "markdown",
      "source": [
        "######################\n",
        "#USER INPUT\n",
        "######################"
      ],
      "metadata": {
        "id": "-aldaFixXz3f"
      }
    },
    {
      "cell_type": "code",
      "source": [
        "weight = int(input(\"Enter your weight : \"))\n",
        "print(weight)"
      ],
      "metadata": {
        "colab": {
          "base_uri": "https://localhost:8080/"
        },
        "id": "oneUlXfYX62q",
        "outputId": "6c547b5b-3e2a-46a1-bfec-a52934519cc3"
      },
      "execution_count": 2,
      "outputs": [
        {
          "output_type": "stream",
          "name": "stdout",
          "text": [
            "Enter your weight : 184\n",
            "184\n"
          ]
        }
      ]
    },
    {
      "cell_type": "code",
      "source": [
        "weight = input(\"Enter your weight : \")\n",
        "print(weight)"
      ],
      "metadata": {
        "colab": {
          "base_uri": "https://localhost:8080/"
        },
        "id": "_912KfavZbF7",
        "outputId": "d78f05c7-5e8b-4b4f-d528-9f51404b034b"
      },
      "execution_count": 5,
      "outputs": [
        {
          "output_type": "stream",
          "name": "stdout",
          "text": [
            "Enter your weight : Ron\n",
            "Ron\n"
          ]
        }
      ]
    },
    {
      "cell_type": "code",
      "source": [
        "2**3\n",
        "\n",
        "(14%2)+4"
      ],
      "metadata": {
        "colab": {
          "base_uri": "https://localhost:8080/"
        },
        "id": "SWd17Zj_cL4N",
        "outputId": "bda7128d-23d3-4d03-b49c-74210be90543"
      },
      "execution_count": 7,
      "outputs": [
        {
          "output_type": "execute_result",
          "data": {
            "text/plain": [
              "4"
            ]
          },
          "metadata": {},
          "execution_count": 7
        }
      ]
    },
    {
      "cell_type": "markdown",
      "source": [
        "# + -> addition\n",
        "# - -> subtraction\n",
        "# * -> multiply\n",
        "# ** -> power\n",
        "# / -> division\n",
        "# % -> remainder of division\n",
        "# // -> integer of division\n",
        "\n"
      ],
      "metadata": {
        "id": "Ha1Uwfzvcust"
      }
    },
    {
      "cell_type": "code",
      "source": [
        "a, b, c = 12, 2, 15\n",
        "print(\"a + b = \",a+b)\n",
        "print(\"a - b = \",a-b)\n",
        "print(\"a * b = \",a*b)\n",
        "print(\"a ** b = \",a**b)\n",
        "print(\"a / b = \",a/b)\n",
        "print(\"a % b = \",a%b)\n",
        "print(\"c // b = \",c//b)\n",
        "\n"
      ],
      "metadata": {
        "colab": {
          "base_uri": "https://localhost:8080/"
        },
        "id": "2vy17cfvdUdK",
        "outputId": "d9893134-f5da-466f-b9a7-3e1badf75a79"
      },
      "execution_count": 8,
      "outputs": [
        {
          "output_type": "stream",
          "name": "stdout",
          "text": [
            "a + b =  14\n",
            "a - b =  10\n",
            "a * b =  24\n",
            "a ** b =  144\n",
            "a / b =  6.0\n",
            "a % b =  0\n",
            "c // b =  7\n"
          ]
        }
      ]
    },
    {
      "cell_type": "code",
      "source": [
        "a, b = 7, 9\n",
        "print(\"a greater than b is \", a > b)\n",
        "print(\"a less than b is \", a < b)\n",
        "print(\"a == b is \", a == b)\n",
        "print(\"a != b is \", a != b)\n",
        "print(\"a >= b is \", a >= b)\n",
        "print(\"a <= b is \", a <= b)"
      ],
      "metadata": {
        "colab": {
          "base_uri": "https://localhost:8080/"
        },
        "id": "qDHW459-dUfL",
        "outputId": "6684fab2-a0f5-4dc1-9dd1-5f879c241b69"
      },
      "execution_count": 10,
      "outputs": [
        {
          "output_type": "stream",
          "name": "stdout",
          "text": [
            "a greater than b is  False\n",
            "a less than b is  True\n",
            "a == b is  False\n",
            "a != b is  True\n",
            "a >= b is  False\n",
            "a <= b is  True\n"
          ]
        }
      ]
    }
  ]
}