{
  "nbformat": 4,
  "nbformat_minor": 0,
  "metadata": {
    "colab": {
      "provenance": [],
      "authorship_tag": "ABX9TyMvcUDbkT/mAKNiLIpo2XMG",
      "include_colab_link": true
    },
    "kernelspec": {
      "name": "python3",
      "display_name": "Python 3"
    },
    "language_info": {
      "name": "python"
    }
  },
  "cells": [
    {
      "cell_type": "markdown",
      "metadata": {
        "id": "view-in-github",
        "colab_type": "text"
      },
      "source": [
        "<a href=\"https://colab.research.google.com/github/roneshpra/PythonLearning/blob/Dev/PythonBasics/Python_Wk2.ipynb\" target=\"_parent\"><img src=\"https://colab.research.google.com/assets/colab-badge.svg\" alt=\"Open In Colab\"/></a>"
      ]
    },
    {
      "cell_type": "code",
      "execution_count": 2,
      "metadata": {
        "id": "32W9fbMvtffI"
      },
      "outputs": [],
      "source": [
        "import numpy as np  # Import numpy library to use its functions\n",
        "import pandas as pd  # Import pandas library to use its functions"
      ]
    },
    {
      "cell_type": "code",
      "source": [
        "## Numpy Arrays ##\n",
        "arr_str = ['Mercedes', 'BMW', 'Audi', 'Ferrari', 'Tesla']\n",
        "arr_num = [1, 2, 3, 4, 5]\n",
        "\n",
        "py_arr_str = np.array(arr_str)\n",
        "py_arr_num = np.array(arr_num)\n",
        "\n",
        "print(py_arr_str)\n",
        "print(py_arr_num)\n",
        "print(type(arr_str))\n",
        "print(type(py_arr_str))\n",
        "print(type(py_arr_num))\n",
        "\n",
        "\n",
        "matrix = np.array([[1, 2, 3], [4, 5, 6], [7, 8, 9]])\n",
        "print(matrix)"
      ],
      "metadata": {
        "colab": {
          "base_uri": "https://localhost:8080/"
        },
        "id": "YVjtuBRuvo_Z",
        "outputId": "cde6d85e-8004-4eb5-e212-acb827ec19ed"
      },
      "execution_count": null,
      "outputs": [
        {
          "output_type": "stream",
          "name": "stdout",
          "text": [
            "['Mercedes' 'BMW' 'Audi' 'Ferrari' 'Tesla']\n",
            "['1' '2' '3' '4' '5']\n",
            "<class 'list'>\n",
            "<class 'numpy.ndarray'>\n",
            "<class 'numpy.ndarray'>\n",
            "[[1 2 3]\n",
            " [4 5 6]\n",
            " [7 8 9]]\n"
          ]
        }
      ]
    },
    {
      "cell_type": "code",
      "source": [
        "## Numpy Functions ##\n",
        "\n",
        "vec = np.arange(0, 10, 2)\n",
        "print(\"Arange :\", vec)\n",
        "\n",
        "vec1 = np.linspace(0, 10, 2)\n",
        "print(\"Linspace :\", vec1)\n",
        "\n",
        "vec2 = np.zeros([3, 4])\n",
        "print(\"Matrix Zeroes :\\n\", vec2)\n",
        "\n",
        "vec3 = np.ones([3,4])\n",
        "print(\"Matrix Ones :\\n\", vec3)\n",
        "\n",
        "vec4 = np.eye(4)\n",
        "print(\"Identity Matrix :\\n\", vec4)"
      ],
      "metadata": {
        "colab": {
          "base_uri": "https://localhost:8080/"
        },
        "id": "SceDalBE4sXe",
        "outputId": "692f57aa-9aca-4e9f-80b1-257c436b7ad5"
      },
      "execution_count": null,
      "outputs": [
        {
          "output_type": "stream",
          "name": "stdout",
          "text": [
            "Arange : [0 2 4 6 8]\n",
            "Linspace : [ 0. 10.]\n",
            "Matrix Zeroes :\n",
            " [[0. 0. 0. 0.]\n",
            " [0. 0. 0. 0.]\n",
            " [0. 0. 0. 0.]]\n",
            "Matrix Ones :\n",
            " [[1. 1. 1. 1.]\n",
            " [1. 1. 1. 1.]\n",
            " [1. 1. 1. 1.]]\n",
            "Identity Matrix :\n",
            " [[1. 0. 0. 0.]\n",
            " [0. 1. 0. 0.]\n",
            " [0. 0. 1. 0.]\n",
            " [0. 0. 0. 1.]]\n"
          ]
        }
      ]
    },
    {
      "cell_type": "code",
      "source": [
        "arr = np.arange(0, 10)\n",
        "arr_reshape = arr.reshape(2, 5)\n",
        "print(arr)\n",
        "print(arr_reshape)\n",
        "\n",
        "arr1 = np.array([1, 2, 3, 4])\n",
        "expo = np.exp(arr1)\n",
        "print(\"Exponentiation of arr1 is\", expo)\n",
        "\n",
        "logarithm = np.log(arr1)\n",
        "print(\"Logarithm of arr1 is\", logarithm)\n",
        "\n",
        "logarithm10 = np.log10(arr1)\n",
        "print(\"Logarithm10 of arr1 is\", logarithm10)\n",
        "\n",
        "logarithm2 = np.log2(arr1)\n",
        "print(\"Logarithm2 of arr1 is\", logarithm2)\n"
      ],
      "metadata": {
        "colab": {
          "base_uri": "https://localhost:8080/"
        },
        "id": "UABJW6YiI9Fu",
        "outputId": "c47dd2d9-3b71-4fba-a52d-3d49ad6e4bf8"
      },
      "execution_count": null,
      "outputs": [
        {
          "output_type": "stream",
          "name": "stdout",
          "text": [
            "[0 1 2 3 4 5 6 7 8 9]\n",
            "[[0 1 2 3 4]\n",
            " [5 6 7 8 9]]\n",
            "Exponentiation of arr1 is [ 2.71828183  7.3890561  20.08553692 54.59815003]\n",
            "Logarithm of arr1 is [0.         0.69314718 1.09861229 1.38629436]\n",
            "Logarithm10 of arr1 is [0.         0.30103    0.47712125 0.60205999]\n",
            "Logarithm2 of arr1 is [0.        1.        1.5849625 2.       ]\n"
          ]
        }
      ]
    },
    {
      "cell_type": "code",
      "source": [
        "## Arithmetic Functions ##\n",
        "arr_math1 = np.arange(1, 6)\n",
        "arr_math2 = np.arange(3, 8)\n",
        "\n",
        "print(\"Array 1 is :\", arr_math1)\n",
        "print(\"Array 2 is :\", arr_math2)\n",
        "\n",
        "# Arithmetic operations\n",
        "\n",
        "print(\"Addition :\", arr_math1 + arr_math2)\n",
        "print(\"Subtraction :\", arr_math1 - arr_math2)\n",
        "print(\"Multiplication :\", arr_math1 * arr_math2)\n",
        "print(\"Division :\", arr_math1 / arr_math2)\n",
        "print(\"Inverse :\", 1/arr_math1)\n",
        "print(\"Power :\", arr_math1 ** arr_math2)\n"
      ],
      "metadata": {
        "colab": {
          "base_uri": "https://localhost:8080/"
        },
        "id": "3SPOlYCxWXLS",
        "outputId": "80d5f87f-d67b-4d63-eacf-7a136c69b861"
      },
      "execution_count": null,
      "outputs": [
        {
          "output_type": "stream",
          "name": "stdout",
          "text": [
            "Array 1 is : [1 2 3 4 5]\n",
            "Array 2 is : [3 4 5 6 7]\n",
            "Addition : [ 4  6  8 10 12]\n",
            "Subtraction : [-2 -2 -2 -2 -2]\n",
            "Multiplication : [ 3  8 15 24 35]\n",
            "Division : [0.33333333 0.5        0.6        0.66666667 0.71428571]\n",
            "Inverse : [1.         0.5        0.33333333 0.25       0.2       ]\n",
            "Power : [    1    16   243  4096 78125]\n"
          ]
        }
      ]
    },
    {
      "cell_type": "code",
      "source": [
        "## Matrix Operations\n",
        "\n",
        "matrix1 = np.arange(1, 10).reshape(3, 3)\n",
        "matrix2 = np.arange(11, 20).reshape(3, 3)\n",
        "\n",
        "print(\"Matrix 1 is :\\n\", matrix1)\n",
        "print(\"Matrix 2 is :\\n\", matrix2)\n",
        "\n",
        "print(\"Addition :\\n\", matrix1 + matrix2)\n",
        "print(\"Subtraction :\\n\", matrix1 - matrix2)\n",
        "print(\"Multiplication :\\n\", matrix1 * matrix2)\n",
        "print(\"Division :\\n\", matrix1 / matrix2)\n",
        "print(\"Linear multiplication is :\\n\", matrix1 @ matrix2)\n",
        "\n",
        "print(\"Transpose :\\n\", matrix1.T)"
      ],
      "metadata": {
        "colab": {
          "base_uri": "https://localhost:8080/"
        },
        "id": "B4wfnncobwps",
        "outputId": "83824d09-878d-44a8-eeeb-24641a74c437"
      },
      "execution_count": null,
      "outputs": [
        {
          "output_type": "stream",
          "name": "stdout",
          "text": [
            "Matrix 1 is :\n",
            " [[1 2 3]\n",
            " [4 5 6]\n",
            " [7 8 9]]\n",
            "Matrix 2 is :\n",
            " [[11 12 13]\n",
            " [14 15 16]\n",
            " [17 18 19]]\n",
            "Addition :\n",
            " [[12 14 16]\n",
            " [18 20 22]\n",
            " [24 26 28]]\n",
            "Subtraction :\n",
            " [[-10 -10 -10]\n",
            " [-10 -10 -10]\n",
            " [-10 -10 -10]]\n",
            "Multiplication :\n",
            " [[ 11  24  39]\n",
            " [ 56  75  96]\n",
            " [119 144 171]]\n",
            "Division :\n",
            " [[0.09090909 0.16666667 0.23076923]\n",
            " [0.28571429 0.33333333 0.375     ]\n",
            " [0.41176471 0.44444444 0.47368421]]\n",
            "Linear multiplication is :\n",
            " [[ 90  96 102]\n",
            " [216 231 246]\n",
            " [342 366 390]]\n",
            "Transpose :\n",
            " [[1 4 7]\n",
            " [2 5 8]\n",
            " [3 6 9]]\n"
          ]
        }
      ]
    },
    {
      "cell_type": "code",
      "source": [
        "vec1 = np.linspace(20, 50, 4)\n",
        "vec2 = np.linspace(100, 120, 4)\n",
        "\n",
        "print(vec1)\n",
        "print(vec2)\n",
        "\n",
        "print(vec1 + vec2)"
      ],
      "metadata": {
        "colab": {
          "base_uri": "https://localhost:8080/"
        },
        "id": "700bbXjmcoM1",
        "outputId": "4630a2d4-0e8a-4459-f4f1-9e271e25a9a3"
      },
      "execution_count": null,
      "outputs": [
        {
          "output_type": "stream",
          "name": "stdout",
          "text": [
            "[20. 30. 40. 50.]\n",
            "[100.         106.66666667 113.33333333 120.        ]\n",
            "[120.         136.66666667 153.33333333 170.        ]\n"
          ]
        }
      ]
    },
    {
      "cell_type": "code",
      "source": [
        "rand_mat = np.random.randn(5, 5)\n",
        "print(rand_mat[rand_mat > 0])\n",
        "print(np.mean(rand_mat))\n",
        "print(np.std(rand_mat))\n",
        "#np.min(rand_mat)\n",
        "#np.max(rand_mat)"
      ],
      "metadata": {
        "colab": {
          "base_uri": "https://localhost:8080/"
        },
        "id": "Mofek0npfmdR",
        "outputId": "de5c3acc-cd17-4619-912e-7c39444c06be"
      },
      "execution_count": null,
      "outputs": [
        {
          "output_type": "stream",
          "name": "stdout",
          "text": [
            "[1.67180763 0.61416581 0.77626551 1.30030069 0.34634355 1.43517713\n",
            " 0.17332629 0.30829826 1.25503572]\n",
            "-0.1535943435056858\n",
            "0.9483041196418305\n"
          ]
        }
      ]
    },
    {
      "cell_type": "code",
      "source": [
        "arr_rand = np.random.randn(5,5)\n",
        "print(arr_rand)\n",
        "print(arr_rand[arr_rand < 0])\n",
        "arr_rand[arr_rand < 0] = 0\n",
        "arr_rand[arr_rand > 0] = 1\n",
        "print(arr_rand)\n",
        "print(arr_rand[0][1])\n",
        "print(arr_rand[0,1])\n",
        "print(arr_rand[0:2, 0:2])"
      ],
      "metadata": {
        "colab": {
          "base_uri": "https://localhost:8080/"
        },
        "id": "db-QUpVQjW2S",
        "outputId": "3144f60b-b4d3-4fb8-f277-42896ed6ca7c"
      },
      "execution_count": null,
      "outputs": [
        {
          "output_type": "stream",
          "name": "stdout",
          "text": [
            "[[-0.56517084  0.24257675  0.9903457  -0.11882991  0.47986519]\n",
            " [-0.52144492 -0.15509491  0.62474989 -1.37618453  0.17572495]\n",
            " [-0.78458672  0.43390442 -1.36627936  0.67944165  0.04128227]\n",
            " [ 1.6562056  -0.5561772   0.80315303 -0.72438189  1.72435306]\n",
            " [-0.78834153 -2.80410348  0.2997194  -0.86012374 -1.04384292]]\n",
            "[-0.56517084 -0.11882991 -0.52144492 -0.15509491 -1.37618453 -0.78458672\n",
            " -1.36627936 -0.5561772  -0.72438189 -0.78834153 -2.80410348 -0.86012374\n",
            " -1.04384292]\n",
            "[[0. 1. 1. 0. 1.]\n",
            " [0. 0. 1. 0. 1.]\n",
            " [0. 1. 0. 1. 1.]\n",
            " [1. 0. 1. 0. 1.]\n",
            " [0. 0. 1. 0. 0.]]\n",
            "1.0\n",
            "1.0\n",
            "[[0. 1.]\n",
            " [0. 0.]]\n"
          ]
        }
      ]
    },
    {
      "cell_type": "code",
      "source": [
        "### Pandas ###\n",
        "med_price_list = [55, 25, 75, 40, 90]\n",
        "med_price_array = np.array(med_price_list)\n",
        "med_price_list_series = pd.Series(med_price_list)\n",
        "med_price_array_series = pd.Series(med_price_array)\n",
        "print(med_price_list_series)\n",
        "print(med_price_array_series)"
      ],
      "metadata": {
        "id": "mRIdvHARwwug",
        "colab": {
          "base_uri": "https://localhost:8080/"
        },
        "outputId": "b4ba6152-ae5e-4d41-e501-dbde232dac26"
      },
      "execution_count": 3,
      "outputs": [
        {
          "output_type": "stream",
          "name": "stdout",
          "text": [
            "0    55\n",
            "1    25\n",
            "2    75\n",
            "3    40\n",
            "4    90\n",
            "dtype: int64\n",
            "0    55\n",
            "1    25\n",
            "2    75\n",
            "3    40\n",
            "4    90\n",
            "dtype: int64\n"
          ]
        }
      ]
    },
    {
      "cell_type": "code",
      "source": [
        "# changing the index of the series\n",
        "med_price_list_labeled = pd.Series(med_price_list, index=['Lisinopril', 'Metformin', 'Novolog', 'Farxiga', 'Tresiba'])\n",
        "print(med_price_list_labeled)"
      ],
      "metadata": {
        "colab": {
          "base_uri": "https://localhost:8080/"
        },
        "id": "uAlqeyV4U-Tm",
        "outputId": "056e670d-ffbe-4fcb-c1ee-4eab2dfad264"
      },
      "execution_count": 14,
      "outputs": [
        {
          "output_type": "stream",
          "name": "stdout",
          "text": [
            "Lisinopril    55\n",
            "Metformin     25\n",
            "Novolog       75\n",
            "Farxiga       40\n",
            "Tresiba       90\n",
            "dtype: int64\n"
          ]
        }
      ]
    },
    {
      "cell_type": "code",
      "source": [
        "# adding 4 to existing price\n",
        "med_price_list_labeled = med_price_list_labeled + 4\n",
        "print(\"Old Price List\")\n",
        "print(med_price_list_labeled)\n",
        "\n",
        "print(\"\")\n",
        "\n",
        "new_price_list = [60, 60, 100, 60, 100]\n",
        "new_price_list_labeled = pd.Series(new_price_list, index=['Lisinopril', 'Metformin', 'Novolog', 'Farxiga', 'Tresiba'])\n",
        "print(\"New Price List\")\n",
        "print(new_price_list_labeled)\n",
        "\n",
        "# Difference between original list and new list\n",
        "print(\"\")\n",
        "print(\"Difference between new price and old price\")\n",
        "print(new_price_list_labeled - med_price_list_labeled)"
      ],
      "metadata": {
        "colab": {
          "base_uri": "https://localhost:8080/"
        },
        "id": "1f-7p8lsV0vf",
        "outputId": "f947a9e9-835a-4db2-95a4-8e3ae57f42e4"
      },
      "execution_count": 15,
      "outputs": [
        {
          "output_type": "stream",
          "name": "stdout",
          "text": [
            "Old Price List\n",
            "Lisinopril    59\n",
            "Metformin     29\n",
            "Novolog       79\n",
            "Farxiga       44\n",
            "Tresiba       94\n",
            "dtype: int64\n",
            "\n",
            "New Price List\n",
            "Lisinopril     60\n",
            "Metformin      60\n",
            "Novolog       100\n",
            "Farxiga        60\n",
            "Tresiba       100\n",
            "dtype: int64\n",
            "\n",
            "Difference between new price and old price\n",
            "Lisinopril     1\n",
            "Metformin     31\n",
            "Novolog       21\n",
            "Farxiga       16\n",
            "Tresiba        6\n",
            "dtype: int64\n"
          ]
        }
      ]
    },
    {
      "cell_type": "code",
      "source": [
        "## Panda Data Frames ##\n",
        "student = ['Tisha', 'Adhvika', 'Ishaanvi', 'Ivanka', 'Sawyer']\n",
        "df1 = pd.DataFrame(student, columns = ['StudentName'])\n",
        "df1\n",
        "\n",
        "grades = ['A+', 'B+', 'A-', 'B-', 'C+']\n",
        "df2 = pd.DataFrame({'StudentName': student, 'Grades': grades})\n",
        "df2"
      ],
      "metadata": {
        "colab": {
          "base_uri": "https://localhost:8080/",
          "height": 206
        },
        "id": "AC7_5qHpZQ4A",
        "outputId": "9ed373da-7b2a-45c3-e0e6-2842f62a2100"
      },
      "execution_count": 18,
      "outputs": [
        {
          "output_type": "execute_result",
          "data": {
            "text/plain": [
              "  StudentName Grades\n",
              "0       Tisha     A+\n",
              "1     Adhvika     B+\n",
              "2    Ishaanvi     A-\n",
              "3      Ivanka     B-\n",
              "4      Sawyer     C+"
            ],
            "text/html": [
              "\n",
              "  <div id=\"df-3d59eb8f-5ad5-4c54-a7c8-4e472bc664fc\" class=\"colab-df-container\">\n",
              "    <div>\n",
              "<style scoped>\n",
              "    .dataframe tbody tr th:only-of-type {\n",
              "        vertical-align: middle;\n",
              "    }\n",
              "\n",
              "    .dataframe tbody tr th {\n",
              "        vertical-align: top;\n",
              "    }\n",
              "\n",
              "    .dataframe thead th {\n",
              "        text-align: right;\n",
              "    }\n",
              "</style>\n",
              "<table border=\"1\" class=\"dataframe\">\n",
              "  <thead>\n",
              "    <tr style=\"text-align: right;\">\n",
              "      <th></th>\n",
              "      <th>StudentName</th>\n",
              "      <th>Grades</th>\n",
              "    </tr>\n",
              "  </thead>\n",
              "  <tbody>\n",
              "    <tr>\n",
              "      <th>0</th>\n",
              "      <td>Tisha</td>\n",
              "      <td>A+</td>\n",
              "    </tr>\n",
              "    <tr>\n",
              "      <th>1</th>\n",
              "      <td>Adhvika</td>\n",
              "      <td>B+</td>\n",
              "    </tr>\n",
              "    <tr>\n",
              "      <th>2</th>\n",
              "      <td>Ishaanvi</td>\n",
              "      <td>A-</td>\n",
              "    </tr>\n",
              "    <tr>\n",
              "      <th>3</th>\n",
              "      <td>Ivanka</td>\n",
              "      <td>B-</td>\n",
              "    </tr>\n",
              "    <tr>\n",
              "      <th>4</th>\n",
              "      <td>Sawyer</td>\n",
              "      <td>C+</td>\n",
              "    </tr>\n",
              "  </tbody>\n",
              "</table>\n",
              "</div>\n",
              "    <div class=\"colab-df-buttons\">\n",
              "\n",
              "  <div class=\"colab-df-container\">\n",
              "    <button class=\"colab-df-convert\" onclick=\"convertToInteractive('df-3d59eb8f-5ad5-4c54-a7c8-4e472bc664fc')\"\n",
              "            title=\"Convert this dataframe to an interactive table.\"\n",
              "            style=\"display:none;\">\n",
              "\n",
              "  <svg xmlns=\"http://www.w3.org/2000/svg\" height=\"24px\" viewBox=\"0 -960 960 960\">\n",
              "    <path d=\"M120-120v-720h720v720H120Zm60-500h600v-160H180v160Zm220 220h160v-160H400v160Zm0 220h160v-160H400v160ZM180-400h160v-160H180v160Zm440 0h160v-160H620v160ZM180-180h160v-160H180v160Zm440 0h160v-160H620v160Z\"/>\n",
              "  </svg>\n",
              "    </button>\n",
              "\n",
              "  <style>\n",
              "    .colab-df-container {\n",
              "      display:flex;\n",
              "      gap: 12px;\n",
              "    }\n",
              "\n",
              "    .colab-df-convert {\n",
              "      background-color: #E8F0FE;\n",
              "      border: none;\n",
              "      border-radius: 50%;\n",
              "      cursor: pointer;\n",
              "      display: none;\n",
              "      fill: #1967D2;\n",
              "      height: 32px;\n",
              "      padding: 0 0 0 0;\n",
              "      width: 32px;\n",
              "    }\n",
              "\n",
              "    .colab-df-convert:hover {\n",
              "      background-color: #E2EBFA;\n",
              "      box-shadow: 0px 1px 2px rgba(60, 64, 67, 0.3), 0px 1px 3px 1px rgba(60, 64, 67, 0.15);\n",
              "      fill: #174EA6;\n",
              "    }\n",
              "\n",
              "    .colab-df-buttons div {\n",
              "      margin-bottom: 4px;\n",
              "    }\n",
              "\n",
              "    [theme=dark] .colab-df-convert {\n",
              "      background-color: #3B4455;\n",
              "      fill: #D2E3FC;\n",
              "    }\n",
              "\n",
              "    [theme=dark] .colab-df-convert:hover {\n",
              "      background-color: #434B5C;\n",
              "      box-shadow: 0px 1px 3px 1px rgba(0, 0, 0, 0.15);\n",
              "      filter: drop-shadow(0px 1px 2px rgba(0, 0, 0, 0.3));\n",
              "      fill: #FFFFFF;\n",
              "    }\n",
              "  </style>\n",
              "\n",
              "    <script>\n",
              "      const buttonEl =\n",
              "        document.querySelector('#df-3d59eb8f-5ad5-4c54-a7c8-4e472bc664fc button.colab-df-convert');\n",
              "      buttonEl.style.display =\n",
              "        google.colab.kernel.accessAllowed ? 'block' : 'none';\n",
              "\n",
              "      async function convertToInteractive(key) {\n",
              "        const element = document.querySelector('#df-3d59eb8f-5ad5-4c54-a7c8-4e472bc664fc');\n",
              "        const dataTable =\n",
              "          await google.colab.kernel.invokeFunction('convertToInteractive',\n",
              "                                                    [key], {});\n",
              "        if (!dataTable) return;\n",
              "\n",
              "        const docLinkHtml = 'Like what you see? Visit the ' +\n",
              "          '<a target=\"_blank\" href=https://colab.research.google.com/notebooks/data_table.ipynb>data table notebook</a>'\n",
              "          + ' to learn more about interactive tables.';\n",
              "        element.innerHTML = '';\n",
              "        dataTable['output_type'] = 'display_data';\n",
              "        await google.colab.output.renderOutput(dataTable, element);\n",
              "        const docLink = document.createElement('div');\n",
              "        docLink.innerHTML = docLinkHtml;\n",
              "        element.appendChild(docLink);\n",
              "      }\n",
              "    </script>\n",
              "  </div>\n",
              "\n",
              "\n",
              "<div id=\"df-efec86bc-6e25-4de4-bb1c-257092abcb91\">\n",
              "  <button class=\"colab-df-quickchart\" onclick=\"quickchart('df-efec86bc-6e25-4de4-bb1c-257092abcb91')\"\n",
              "            title=\"Suggest charts\"\n",
              "            style=\"display:none;\">\n",
              "\n",
              "<svg xmlns=\"http://www.w3.org/2000/svg\" height=\"24px\"viewBox=\"0 0 24 24\"\n",
              "     width=\"24px\">\n",
              "    <g>\n",
              "        <path d=\"M19 3H5c-1.1 0-2 .9-2 2v14c0 1.1.9 2 2 2h14c1.1 0 2-.9 2-2V5c0-1.1-.9-2-2-2zM9 17H7v-7h2v7zm4 0h-2V7h2v10zm4 0h-2v-4h2v4z\"/>\n",
              "    </g>\n",
              "</svg>\n",
              "  </button>\n",
              "\n",
              "<style>\n",
              "  .colab-df-quickchart {\n",
              "      --bg-color: #E8F0FE;\n",
              "      --fill-color: #1967D2;\n",
              "      --hover-bg-color: #E2EBFA;\n",
              "      --hover-fill-color: #174EA6;\n",
              "      --disabled-fill-color: #AAA;\n",
              "      --disabled-bg-color: #DDD;\n",
              "  }\n",
              "\n",
              "  [theme=dark] .colab-df-quickchart {\n",
              "      --bg-color: #3B4455;\n",
              "      --fill-color: #D2E3FC;\n",
              "      --hover-bg-color: #434B5C;\n",
              "      --hover-fill-color: #FFFFFF;\n",
              "      --disabled-bg-color: #3B4455;\n",
              "      --disabled-fill-color: #666;\n",
              "  }\n",
              "\n",
              "  .colab-df-quickchart {\n",
              "    background-color: var(--bg-color);\n",
              "    border: none;\n",
              "    border-radius: 50%;\n",
              "    cursor: pointer;\n",
              "    display: none;\n",
              "    fill: var(--fill-color);\n",
              "    height: 32px;\n",
              "    padding: 0;\n",
              "    width: 32px;\n",
              "  }\n",
              "\n",
              "  .colab-df-quickchart:hover {\n",
              "    background-color: var(--hover-bg-color);\n",
              "    box-shadow: 0 1px 2px rgba(60, 64, 67, 0.3), 0 1px 3px 1px rgba(60, 64, 67, 0.15);\n",
              "    fill: var(--button-hover-fill-color);\n",
              "  }\n",
              "\n",
              "  .colab-df-quickchart-complete:disabled,\n",
              "  .colab-df-quickchart-complete:disabled:hover {\n",
              "    background-color: var(--disabled-bg-color);\n",
              "    fill: var(--disabled-fill-color);\n",
              "    box-shadow: none;\n",
              "  }\n",
              "\n",
              "  .colab-df-spinner {\n",
              "    border: 2px solid var(--fill-color);\n",
              "    border-color: transparent;\n",
              "    border-bottom-color: var(--fill-color);\n",
              "    animation:\n",
              "      spin 1s steps(1) infinite;\n",
              "  }\n",
              "\n",
              "  @keyframes spin {\n",
              "    0% {\n",
              "      border-color: transparent;\n",
              "      border-bottom-color: var(--fill-color);\n",
              "      border-left-color: var(--fill-color);\n",
              "    }\n",
              "    20% {\n",
              "      border-color: transparent;\n",
              "      border-left-color: var(--fill-color);\n",
              "      border-top-color: var(--fill-color);\n",
              "    }\n",
              "    30% {\n",
              "      border-color: transparent;\n",
              "      border-left-color: var(--fill-color);\n",
              "      border-top-color: var(--fill-color);\n",
              "      border-right-color: var(--fill-color);\n",
              "    }\n",
              "    40% {\n",
              "      border-color: transparent;\n",
              "      border-right-color: var(--fill-color);\n",
              "      border-top-color: var(--fill-color);\n",
              "    }\n",
              "    60% {\n",
              "      border-color: transparent;\n",
              "      border-right-color: var(--fill-color);\n",
              "    }\n",
              "    80% {\n",
              "      border-color: transparent;\n",
              "      border-right-color: var(--fill-color);\n",
              "      border-bottom-color: var(--fill-color);\n",
              "    }\n",
              "    90% {\n",
              "      border-color: transparent;\n",
              "      border-bottom-color: var(--fill-color);\n",
              "    }\n",
              "  }\n",
              "</style>\n",
              "\n",
              "  <script>\n",
              "    async function quickchart(key) {\n",
              "      const quickchartButtonEl =\n",
              "        document.querySelector('#' + key + ' button');\n",
              "      quickchartButtonEl.disabled = true;  // To prevent multiple clicks.\n",
              "      quickchartButtonEl.classList.add('colab-df-spinner');\n",
              "      try {\n",
              "        const charts = await google.colab.kernel.invokeFunction(\n",
              "            'suggestCharts', [key], {});\n",
              "      } catch (error) {\n",
              "        console.error('Error during call to suggestCharts:', error);\n",
              "      }\n",
              "      quickchartButtonEl.classList.remove('colab-df-spinner');\n",
              "      quickchartButtonEl.classList.add('colab-df-quickchart-complete');\n",
              "    }\n",
              "    (() => {\n",
              "      let quickchartButtonEl =\n",
              "        document.querySelector('#df-efec86bc-6e25-4de4-bb1c-257092abcb91 button');\n",
              "      quickchartButtonEl.style.display =\n",
              "        google.colab.kernel.accessAllowed ? 'block' : 'none';\n",
              "    })();\n",
              "  </script>\n",
              "</div>\n",
              "\n",
              "  <div id=\"id_cc2e671e-ed1a-4cb1-9feb-67b8a936693d\">\n",
              "    <style>\n",
              "      .colab-df-generate {\n",
              "        background-color: #E8F0FE;\n",
              "        border: none;\n",
              "        border-radius: 50%;\n",
              "        cursor: pointer;\n",
              "        display: none;\n",
              "        fill: #1967D2;\n",
              "        height: 32px;\n",
              "        padding: 0 0 0 0;\n",
              "        width: 32px;\n",
              "      }\n",
              "\n",
              "      .colab-df-generate:hover {\n",
              "        background-color: #E2EBFA;\n",
              "        box-shadow: 0px 1px 2px rgba(60, 64, 67, 0.3), 0px 1px 3px 1px rgba(60, 64, 67, 0.15);\n",
              "        fill: #174EA6;\n",
              "      }\n",
              "\n",
              "      [theme=dark] .colab-df-generate {\n",
              "        background-color: #3B4455;\n",
              "        fill: #D2E3FC;\n",
              "      }\n",
              "\n",
              "      [theme=dark] .colab-df-generate:hover {\n",
              "        background-color: #434B5C;\n",
              "        box-shadow: 0px 1px 3px 1px rgba(0, 0, 0, 0.15);\n",
              "        filter: drop-shadow(0px 1px 2px rgba(0, 0, 0, 0.3));\n",
              "        fill: #FFFFFF;\n",
              "      }\n",
              "    </style>\n",
              "    <button class=\"colab-df-generate\" onclick=\"generateWithVariable('df2')\"\n",
              "            title=\"Generate code using this dataframe.\"\n",
              "            style=\"display:none;\">\n",
              "\n",
              "  <svg xmlns=\"http://www.w3.org/2000/svg\" height=\"24px\"viewBox=\"0 0 24 24\"\n",
              "       width=\"24px\">\n",
              "    <path d=\"M7,19H8.4L18.45,9,17,7.55,7,17.6ZM5,21V16.75L18.45,3.32a2,2,0,0,1,2.83,0l1.4,1.43a1.91,1.91,0,0,1,.58,1.4,1.91,1.91,0,0,1-.58,1.4L9.25,21ZM18.45,9,17,7.55Zm-12,3A5.31,5.31,0,0,0,4.9,8.1,5.31,5.31,0,0,0,1,6.5,5.31,5.31,0,0,0,4.9,4.9,5.31,5.31,0,0,0,6.5,1,5.31,5.31,0,0,0,8.1,4.9,5.31,5.31,0,0,0,12,6.5,5.46,5.46,0,0,0,6.5,12Z\"/>\n",
              "  </svg>\n",
              "    </button>\n",
              "    <script>\n",
              "      (() => {\n",
              "      const buttonEl =\n",
              "        document.querySelector('#id_cc2e671e-ed1a-4cb1-9feb-67b8a936693d button.colab-df-generate');\n",
              "      buttonEl.style.display =\n",
              "        google.colab.kernel.accessAllowed ? 'block' : 'none';\n",
              "\n",
              "      buttonEl.onclick = () => {\n",
              "        google.colab.notebook.generateWithVariable('df2');\n",
              "      }\n",
              "      })();\n",
              "    </script>\n",
              "  </div>\n",
              "\n",
              "    </div>\n",
              "  </div>\n"
            ],
            "application/vnd.google.colaboratory.intrinsic+json": {
              "type": "dataframe",
              "variable_name": "df2",
              "summary": "{\n  \"name\": \"df2\",\n  \"rows\": 5,\n  \"fields\": [\n    {\n      \"column\": \"StudentName\",\n      \"properties\": {\n        \"dtype\": \"string\",\n        \"num_unique_values\": 5,\n        \"samples\": [\n          \"Adhvika\",\n          \"Sawyer\",\n          \"Ishaanvi\"\n        ],\n        \"semantic_type\": \"\",\n        \"description\": \"\"\n      }\n    },\n    {\n      \"column\": \"Grades\",\n      \"properties\": {\n        \"dtype\": \"string\",\n        \"num_unique_values\": 5,\n        \"samples\": [\n          \"B+\",\n          \"C+\",\n          \"A-\"\n        ],\n        \"semantic_type\": \"\",\n        \"description\": \"\"\n      }\n    }\n  ]\n}"
            }
          },
          "metadata": {},
          "execution_count": 18
        }
      ]
    },
    {
      "cell_type": "code",
      "source": [
        "# access series\n",
        "provider = ['AT&T', 'Verizon', 'T-Mobile', 'Jio', 'Airtel']\n",
        "roi = [1234.5, 1113.4, 1013.2, 966.8, 735.9]\n",
        "\n",
        "telecom = pd.Series(roi, index = provider)\n",
        "telecom\n"
      ],
      "metadata": {
        "colab": {
          "base_uri": "https://localhost:8080/",
          "height": 241
        },
        "id": "4P3Hp7YveRkc",
        "outputId": "5ec18c21-919a-4bf6-f318-f9c751126e63"
      },
      "execution_count": 20,
      "outputs": [
        {
          "output_type": "execute_result",
          "data": {
            "text/plain": [
              "AT&T        1234.5\n",
              "Verizon     1113.4\n",
              "T-Mobile    1013.2\n",
              "Jio          966.8\n",
              "Airtel       735.9\n",
              "dtype: float64"
            ],
            "text/html": [
              "<div>\n",
              "<style scoped>\n",
              "    .dataframe tbody tr th:only-of-type {\n",
              "        vertical-align: middle;\n",
              "    }\n",
              "\n",
              "    .dataframe tbody tr th {\n",
              "        vertical-align: top;\n",
              "    }\n",
              "\n",
              "    .dataframe thead th {\n",
              "        text-align: right;\n",
              "    }\n",
              "</style>\n",
              "<table border=\"1\" class=\"dataframe\">\n",
              "  <thead>\n",
              "    <tr style=\"text-align: right;\">\n",
              "      <th></th>\n",
              "      <th>0</th>\n",
              "    </tr>\n",
              "  </thead>\n",
              "  <tbody>\n",
              "    <tr>\n",
              "      <th>AT&amp;T</th>\n",
              "      <td>1234.5</td>\n",
              "    </tr>\n",
              "    <tr>\n",
              "      <th>Verizon</th>\n",
              "      <td>1113.4</td>\n",
              "    </tr>\n",
              "    <tr>\n",
              "      <th>T-Mobile</th>\n",
              "      <td>1013.2</td>\n",
              "    </tr>\n",
              "    <tr>\n",
              "      <th>Jio</th>\n",
              "      <td>966.8</td>\n",
              "    </tr>\n",
              "    <tr>\n",
              "      <th>Airtel</th>\n",
              "      <td>735.9</td>\n",
              "    </tr>\n",
              "  </tbody>\n",
              "</table>\n",
              "</div><br><label><b>dtype:</b> float64</label>"
            ]
          },
          "metadata": {},
          "execution_count": 20
        }
      ]
    },
    {
      "cell_type": "code",
      "source": [
        "print(telecom[0])\n",
        "print(telecom['AT&T'])\n",
        "print(telecom[:3])\n",
        "print(telecom[:'Jio'])"
      ],
      "metadata": {
        "colab": {
          "base_uri": "https://localhost:8080/"
        },
        "id": "FlH2i094iBib",
        "outputId": "0f8a4db7-9076-4625-df0d-42dab05fa63b"
      },
      "execution_count": 30,
      "outputs": [
        {
          "output_type": "stream",
          "name": "stdout",
          "text": [
            "1234.5\n",
            "1234.5\n",
            "AT&T        1234.5\n",
            "Verizon     1113.4\n",
            "T-Mobile    1013.2\n",
            "dtype: float64\n",
            "AT&T        1234.5\n",
            "Verizon     1113.4\n",
            "T-Mobile    1013.2\n",
            "Jio          966.8\n",
            "dtype: float64\n"
          ]
        },
        {
          "output_type": "stream",
          "name": "stderr",
          "text": [
            "<ipython-input-30-9aeef9d1232d>:1: FutureWarning: Series.__getitem__ treating keys as positions is deprecated. In a future version, integer keys will always be treated as labels (consistent with DataFrame behavior). To access a value by position, use `ser.iloc[pos]`\n",
            "  print(telecom[0])\n"
          ]
        }
      ]
    },
    {
      "cell_type": "code",
      "source": [
        "\n",
        "telecom.iloc[0]"
      ],
      "metadata": {
        "colab": {
          "base_uri": "https://localhost:8080/"
        },
        "id": "a6wJKWuIiXcZ",
        "outputId": "2dee2b8e-a70f-4e02-f278-8c0d6a3b1fba"
      },
      "execution_count": 26,
      "outputs": [
        {
          "output_type": "stream",
          "name": "stdout",
          "text": [
            "1234.5\n"
          ]
        },
        {
          "output_type": "execute_result",
          "data": {
            "text/plain": [
              "np.float64(1234.5)"
            ]
          },
          "metadata": {},
          "execution_count": 26
        }
      ]
    }
  ]
}