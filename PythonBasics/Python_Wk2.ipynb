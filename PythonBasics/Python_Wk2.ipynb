{
  "nbformat": 4,
  "nbformat_minor": 0,
  "metadata": {
    "colab": {
      "provenance": [],
      "authorship_tag": "ABX9TyNmiAbjoH18JSfCHuRngZbf",
      "include_colab_link": true
    },
    "kernelspec": {
      "name": "python3",
      "display_name": "Python 3"
    },
    "language_info": {
      "name": "python"
    }
  },
  "cells": [
    {
      "cell_type": "markdown",
      "metadata": {
        "id": "view-in-github",
        "colab_type": "text"
      },
      "source": [
        "<a href=\"https://colab.research.google.com/github/roneshpra/PythonLearning/blob/Dev/PythonBasics/Python_Wk2.ipynb\" target=\"_parent\"><img src=\"https://colab.research.google.com/assets/colab-badge.svg\" alt=\"Open In Colab\"/></a>"
      ]
    },
    {
      "cell_type": "code",
      "execution_count": 2,
      "metadata": {
        "id": "32W9fbMvtffI"
      },
      "outputs": [],
      "source": [
        "import numpy as np  # Import numpy library to use its functions"
      ]
    },
    {
      "cell_type": "code",
      "source": [
        "## Numpy Arrays ##\n",
        "arr_str = ['Mercedes', 'BMW', 'Audi', 'Ferrari', 'Tesla']\n",
        "arr_num = [1, 2, 3, 4, 5]\n",
        "\n",
        "py_arr_str = np.array(arr_str)\n",
        "py_arr_num = np.array(arr_num)\n",
        "\n",
        "print(py_arr_str)\n",
        "print(py_arr_num)\n",
        "print(type(arr_str))\n",
        "print(type(py_arr_str))\n",
        "print(type(py_arr_num))\n",
        "\n",
        "\n",
        "matrix = np.array([[1, 2, 3], [4, 5, 6], [7, 8, 9]])\n",
        "print(matrix)"
      ],
      "metadata": {
        "colab": {
          "base_uri": "https://localhost:8080/"
        },
        "id": "YVjtuBRuvo_Z",
        "outputId": "cde6d85e-8004-4eb5-e212-acb827ec19ed"
      },
      "execution_count": 10,
      "outputs": [
        {
          "output_type": "stream",
          "name": "stdout",
          "text": [
            "['Mercedes' 'BMW' 'Audi' 'Ferrari' 'Tesla']\n",
            "['1' '2' '3' '4' '5']\n",
            "<class 'list'>\n",
            "<class 'numpy.ndarray'>\n",
            "<class 'numpy.ndarray'>\n",
            "[[1 2 3]\n",
            " [4 5 6]\n",
            " [7 8 9]]\n"
          ]
        }
      ]
    },
    {
      "cell_type": "code",
      "source": [
        "## Numpy Functions ##\n",
        "\n",
        "vec = np.arange(0, 10, 2)\n",
        "print(\"Arange :\", vec)\n",
        "\n",
        "vec1 = np.linspace(0, 10, 2)\n",
        "print(\"Linspace :\", vec1)\n",
        "\n",
        "vec2 = np.zeros([3, 4])\n",
        "print(\"Matrix Zeroes :\\n\", vec2)\n",
        "\n",
        "vec3 = np.ones([3,4])\n",
        "print(\"Matrix Ones :\\n\", vec3)\n",
        "\n",
        "vec4 = np.eye(4)\n",
        "print(\"Identity Matrix :\\n\", vec4)"
      ],
      "metadata": {
        "colab": {
          "base_uri": "https://localhost:8080/"
        },
        "id": "SceDalBE4sXe",
        "outputId": "692f57aa-9aca-4e9f-80b1-257c436b7ad5"
      },
      "execution_count": 36,
      "outputs": [
        {
          "output_type": "stream",
          "name": "stdout",
          "text": [
            "Arange : [0 2 4 6 8]\n",
            "Linspace : [ 0. 10.]\n",
            "Matrix Zeroes :\n",
            " [[0. 0. 0. 0.]\n",
            " [0. 0. 0. 0.]\n",
            " [0. 0. 0. 0.]]\n",
            "Matrix Ones :\n",
            " [[1. 1. 1. 1.]\n",
            " [1. 1. 1. 1.]\n",
            " [1. 1. 1. 1.]]\n",
            "Identity Matrix :\n",
            " [[1. 0. 0. 0.]\n",
            " [0. 1. 0. 0.]\n",
            " [0. 0. 1. 0.]\n",
            " [0. 0. 0. 1.]]\n"
          ]
        }
      ]
    }
  ]
}