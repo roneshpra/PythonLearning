{
  "nbformat": 4,
  "nbformat_minor": 0,
  "metadata": {
    "colab": {
      "provenance": [],
      "authorship_tag": "ABX9TyND8v8SjcyYC2AOlV3LtAeN",
      "include_colab_link": true
    },
    "kernelspec": {
      "name": "python3",
      "display_name": "Python 3"
    },
    "language_info": {
      "name": "python"
    }
  },
  "cells": [
    {
      "cell_type": "markdown",
      "metadata": {
        "id": "view-in-github",
        "colab_type": "text"
      },
      "source": [
        "<a href=\"https://colab.research.google.com/github/roneshpra/PythonLearning/blob/Dev/PythonBasics/Python_Wk1.ipynb\" target=\"_parent\"><img src=\"https://colab.research.google.com/assets/colab-badge.svg\" alt=\"Open In Colab\"/></a>"
      ]
    },
    {
      "cell_type": "code",
      "execution_count": null,
      "metadata": {
        "id": "LeaUnFQ4ZW-4"
      },
      "outputs": [],
      "source": []
    },
    {
      "cell_type": "markdown",
      "source": [
        "This is Text cell\n",
        "\n",
        "# header\n",
        "## SubHeader\n",
        "### Sub-SubHeader\n",
        "\n",
        "\n",
        "Create a unordered list using *\n",
        "* Apple\n",
        "* Oranges\n",
        "* Grapes\n",
        "* Avacados\n",
        "* Nectarines\n",
        "* Peaches"
      ],
      "metadata": {
        "id": "haqhkbg_ZlEn"
      }
    },
    {
      "cell_type": "code",
      "source": [
        "2+1\n",
        "3+4\n",
        "print(2+2)\n",
        "print(\"Hello\", \"World\" + \"!\")\n",
        "print('Hello', 'World!')\n",
        "print(\"Hello\", 'World!')\n",
        "print(\"str\"+ \"2\")\n",
        "\n",
        "# Use hashtag to comment."
      ],
      "metadata": {
        "colab": {
          "base_uri": "https://localhost:8080/"
        },
        "id": "4suO020TexXy",
        "outputId": "d22266c3-4b75-4644-f63e-88fa3a22e535"
      },
      "execution_count": null,
      "outputs": [
        {
          "output_type": "stream",
          "name": "stdout",
          "text": [
            "4\n",
            "Hello World!\n",
            "Hello World!\n",
            "Hello World!\n",
            "str2\n"
          ]
        }
      ]
    },
    {
      "cell_type": "code",
      "source": [
        "### Variables ###\n",
        "price = 1100\n",
        "brand = \"Apple\"\n",
        "ram = 8\n",
        "storage = 128\n",
        "is_billed = True\n",
        "print(\"The price of the phone is $\", price, sep='')\n",
        "print(\"The brand of the phone is\", brand, \".\\nThe RAM on the phone is\", ram, \"GB and storage is\", storage, \"GB\")\n",
        "type(is_billed)"
      ],
      "metadata": {
        "colab": {
          "base_uri": "https://localhost:8080/"
        },
        "id": "i8b_VqYLjVOe",
        "outputId": "426b02b5-af92-494b-b459-3ba3419743e8"
      },
      "execution_count": null,
      "outputs": [
        {
          "output_type": "stream",
          "name": "stdout",
          "text": [
            "The price of the phone is $1100\n",
            "The brand of the phone is Apple .\n",
            "The RAM on the phone is 8 GB and storage is 128 GB\n"
          ]
        },
        {
          "output_type": "execute_result",
          "data": {
            "text/plain": [
              "bool"
            ]
          },
          "metadata": {},
          "execution_count": 16
        }
      ]
    },
    {
      "cell_type": "code",
      "source": [
        "#type(price)\n",
        "a = 900/2\n",
        "b = 900//2\n",
        "print(a)\n",
        "print(b)\n",
        "print(type(a))\n"
      ],
      "metadata": {
        "id": "b99DK67t_59k",
        "outputId": "1c24bfa1-af65-4754-e786-f64600426ca3",
        "colab": {
          "base_uri": "https://localhost:8080/"
        }
      },
      "execution_count": null,
      "outputs": [
        {
          "output_type": "stream",
          "name": "stdout",
          "text": [
            "450.0\n",
            "450\n",
            "<class 'float'>\n"
          ]
        }
      ]
    },
    {
      "cell_type": "code",
      "source": [
        "a = 30\n",
        "b = 8\n",
        "c = a/b\n",
        "print(\"a is of type\",type(a), \"and c is of type\", type(c) )"
      ],
      "metadata": {
        "id": "xy7ko6xtCKeE",
        "outputId": "392ecd59-119c-4780-a3ff-9264c7f1efc9",
        "colab": {
          "base_uri": "https://localhost:8080/"
        }
      },
      "execution_count": null,
      "outputs": [
        {
          "output_type": "stream",
          "name": "stdout",
          "text": [
            "a is of type <class 'int'> and c is of type <class 'float'>\n"
          ]
        }
      ]
    },
    {
      "cell_type": "code",
      "source": [
        "## type coversions\n",
        "d = str(a)\n",
        "d"
      ],
      "metadata": {
        "id": "chusYOFwCnQ9",
        "outputId": "91c78693-0173-46d5-acef-a0926bd93e3c",
        "colab": {
          "base_uri": "https://localhost:8080/",
          "height": 35
        }
      },
      "execution_count": null,
      "outputs": [
        {
          "output_type": "execute_result",
          "data": {
            "text/plain": [
              "'450.0'"
            ],
            "application/vnd.google.colaboratory.intrinsic+json": {
              "type": "string"
            }
          },
          "metadata": {},
          "execution_count": 9
        }
      ]
    },
    {
      "cell_type": "code",
      "source": [
        "## Data Structures ##\n",
        "# List #\n",
        "\n",
        "brand_list = ['Apple', 'Samsung', 'LG', 'Apple']\n",
        "ram_list = [4, 12, 8, 8]\n",
        "storage_list = [128, 128, 64, 128]\n",
        "price_list = [900, 899, 600, 1000]\n",
        "\n",
        "len(brand_list)\n",
        "min_price = min(price_list)\n",
        "print(\"The minimum price is \", min_price)\n",
        "brand_list.pop()\n",
        "brand_list.append(\"Motorola\")\n",
        "brand_list\n",
        "\n",
        "x = [10, \"Range\", \"Great\", -54, 11, 12]\n",
        "print(x[1])\n",
        "print(len(x[2:4]))\n",
        "print(x[2:-1])\n",
        "print(x[-2:-1])"
      ],
      "metadata": {
        "id": "M6Jw4NHUIJn4",
        "outputId": "30fa9202-1b8c-4603-f071-cdc96f10b685",
        "colab": {
          "base_uri": "https://localhost:8080/"
        }
      },
      "execution_count": 7,
      "outputs": [
        {
          "output_type": "stream",
          "name": "stdout",
          "text": [
            "The minimum price is  600\n",
            "Range\n",
            "2\n",
            "['Great', -54, 11]\n",
            "[11]\n"
          ]
        }
      ]
    },
    {
      "cell_type": "code",
      "source": [
        "# Tuple #\n",
        "a = (1, 3, 4, 7, 8, 9) # Tuples are immutable i.e. it cannot be changed once created. Its used to store variables that will not be changed.\n",
        "type(a)\n",
        "a[3]\n"
      ],
      "metadata": {
        "id": "XvHhzItWW5F7",
        "outputId": "95849d1a-9db6-45b0-bf42-0289128494bc",
        "colab": {
          "base_uri": "https://localhost:8080/"
        }
      },
      "execution_count": null,
      "outputs": [
        {
          "output_type": "execute_result",
          "data": {
            "text/plain": [
              "7"
            ]
          },
          "metadata": {},
          "execution_count": 26
        }
      ]
    },
    {
      "cell_type": "code",
      "source": [
        "# Dictionary #\n",
        "candidates = {\n",
        "    'Name': ['Ronesh', 'Pranitha', 'Tisha', 'Tara'],\n",
        "    'LastName': ['Bhandari', 'Chitturu', 'Sharma', 'Verma'],\n",
        "    'Age': [40, 38, 7, 1]\n",
        "}\n",
        "\n",
        "type(candidates)\n",
        "candidates['Name'][2]\n",
        "candidates['LastName'][2] = 'Bhandari'\n",
        "candidates['LastName'][3] = 'Bhandari'\n",
        "candidates\n",
        "print(candidates.keys())\n",
        "print(candidates.values())\n",
        "print(\"Age of \", candidates['Name'][2], candidates['LastName'][2], \"is\", candidates[\"Age\"][2])\n",
        "print(candidates)"
      ],
      "metadata": {
        "id": "mccAIre2aDRj",
        "outputId": "a0ae0b21-0d46-4d35-ea6d-d88de0865420",
        "colab": {
          "base_uri": "https://localhost:8080/"
        }
      },
      "execution_count": 1,
      "outputs": [
        {
          "output_type": "stream",
          "name": "stdout",
          "text": [
            "dict_keys(['Name', 'LastName', 'Age'])\n",
            "dict_values([['Ronesh', 'Pranitha', 'Tisha', 'Tara'], ['Bhandari', 'Chitturu', 'Bhandari', 'Bhandari'], [40, 38, 7, 1]])\n",
            "Age of  Tisha Bhandari is 7\n",
            "{'Name': ['Ronesh', 'Pranitha', 'Tisha', 'Tara'], 'LastName': ['Bhandari', 'Chitturu', 'Bhandari', 'Bhandari'], 'Age': [40, 38, 7, 1]}\n"
          ]
        }
      ]
    },
    {
      "cell_type": "code",
      "source": [
        "# Conditional Statements #\n",
        "\n",
        "# if - else #\n",
        "price = 1000\n",
        "budget = int(input('Enter your Budget(in dollars): '))\n",
        "\n",
        "if price <= budget :\n",
        "  print('Congrats ! You can buy the Iphone')\n",
        "else :\n",
        "  print('Sorry ! You cannot buy the Iphone')"
      ],
      "metadata": {
        "id": "zCZI7SsHHvEy",
        "outputId": "c0f28467-6944-4d3b-e2bc-20f20b849a29",
        "colab": {
          "base_uri": "https://localhost:8080/"
        }
      },
      "execution_count": 4,
      "outputs": [
        {
          "output_type": "stream",
          "name": "stdout",
          "text": [
            "Enter your Budget(in dollars): 900\n",
            "Sorry ! You cannot buy the Iphone\n"
          ]
        }
      ]
    },
    {
      "cell_type": "code",
      "source": [
        "# if- elif - else #\n",
        "\n",
        "memory = int(input('Enter the memory size of the phone: '))\n",
        "\n",
        "if memory == 32 :\n",
        "  print('The price of the phone is $900')\n",
        "elif memory == 64 :\n",
        "  print('The price of the phone is $1000')\n",
        "elif memory == 128 :\n",
        "  print('The price of the phone is $1100')\n",
        "else :\n",
        "  print('Please enter valid memory size in GB.')"
      ],
      "metadata": {
        "id": "G6Q5_GjojUZp",
        "outputId": "da6a691c-12b0-44a1-e873-91aa76c6fd20",
        "colab": {
          "base_uri": "https://localhost:8080/"
        }
      },
      "execution_count": 7,
      "outputs": [
        {
          "output_type": "stream",
          "name": "stdout",
          "text": [
            "Enter the memory size of the phone: 128\n",
            "The price of the phone is $1100\n"
          ]
        }
      ]
    },
    {
      "cell_type": "code",
      "source": [
        "a = b = TRUE\n",
        "\n",
        "if (a==b) :\n",
        "  print(\"Hello\")\n",
        "else :\n",
        "  print(\"Well Done\")"
      ],
      "metadata": {
        "id": "AevYEMU3lPmd",
        "outputId": "739450cf-54ae-42a7-efd3-8ce748cf1f93",
        "colab": {
          "base_uri": "https://localhost:8080/",
          "height": 211
        }
      },
      "execution_count": 8,
      "outputs": [
        {
          "output_type": "error",
          "ename": "NameError",
          "evalue": "name 'TRUE' is not defined",
          "traceback": [
            "\u001b[0;31m---------------------------------------------------------------------------\u001b[0m",
            "\u001b[0;31mNameError\u001b[0m                                 Traceback (most recent call last)",
            "\u001b[0;32m<ipython-input-8-1572e8f27fdd>\u001b[0m in \u001b[0;36m<cell line: 0>\u001b[0;34m()\u001b[0m\n\u001b[0;32m----> 1\u001b[0;31m \u001b[0ma\u001b[0m \u001b[0;34m=\u001b[0m \u001b[0mb\u001b[0m \u001b[0;34m=\u001b[0m \u001b[0mTRUE\u001b[0m\u001b[0;34m\u001b[0m\u001b[0;34m\u001b[0m\u001b[0m\n\u001b[0m\u001b[1;32m      2\u001b[0m \u001b[0;34m\u001b[0m\u001b[0m\n\u001b[1;32m      3\u001b[0m \u001b[0;32mif\u001b[0m \u001b[0;34m(\u001b[0m\u001b[0ma\u001b[0m\u001b[0;34m==\u001b[0m\u001b[0mb\u001b[0m\u001b[0;34m)\u001b[0m \u001b[0;34m:\u001b[0m\u001b[0;34m\u001b[0m\u001b[0;34m\u001b[0m\u001b[0m\n\u001b[1;32m      4\u001b[0m   \u001b[0mprint\u001b[0m\u001b[0;34m(\u001b[0m\u001b[0;34m\"Hello\"\u001b[0m\u001b[0;34m)\u001b[0m\u001b[0;34m\u001b[0m\u001b[0;34m\u001b[0m\u001b[0m\n\u001b[1;32m      5\u001b[0m \u001b[0;32melse\u001b[0m \u001b[0;34m:\u001b[0m\u001b[0;34m\u001b[0m\u001b[0;34m\u001b[0m\u001b[0m\n",
            "\u001b[0;31mNameError\u001b[0m: name 'TRUE' is not defined"
          ]
        }
      ]
    },
    {
      "cell_type": "code",
      "source": [
        "## Looping Statement - for loop ##\n",
        "\n",
        "range(5)\n",
        "print(list(range(0,5)))\n",
        "print(list(range(2,5)))\n",
        "print(list(range(0,5,2)))"
      ],
      "metadata": {
        "id": "0gSksjN4mk-V",
        "outputId": "0bbb1ef6-9420-4bed-e76f-cdae35e9b3ea",
        "colab": {
          "base_uri": "https://localhost:8080/"
        }
      },
      "execution_count": 16,
      "outputs": [
        {
          "output_type": "stream",
          "name": "stdout",
          "text": [
            "[0, 1, 2, 3, 4]\n",
            "[2, 3, 4]\n",
            "[0, 2, 4]\n"
          ]
        }
      ]
    },
    {
      "cell_type": "code",
      "source": [
        "price = 1200\n",
        "\n",
        "for i in range(5,16,5):\n",
        "  discount = i/100 * price\n",
        "  print(\"The price after \", i, \"% discount is $\", int(price - discount), sep='')"
      ],
      "metadata": {
        "id": "GQesaGwHqRHT",
        "outputId": "450f4a75-69cc-4f07-e1e2-227089d978b4",
        "colab": {
          "base_uri": "https://localhost:8080/"
        }
      },
      "execution_count": 24,
      "outputs": [
        {
          "output_type": "stream",
          "name": "stdout",
          "text": [
            "The price after 5% discount is $1140\n",
            "The price after 10% discount is $1080\n",
            "The price after 15% discount is $1020\n"
          ]
        }
      ]
    },
    {
      "cell_type": "code",
      "source": [
        "price = 1200\n",
        "\n",
        "j = 5\n",
        "while j <= 20 :\n",
        "  discount = j/100 * price\n",
        "  print(\"The price after \", j, \"% discount is $\", int(price - discount), sep='')\n",
        "  j += 5"
      ],
      "metadata": {
        "id": "RxWa3mqbqRGt",
        "outputId": "d87ee710-c55e-4ebd-d624-54add14c2593",
        "colab": {
          "base_uri": "https://localhost:8080/"
        }
      },
      "execution_count": 2,
      "outputs": [
        {
          "output_type": "stream",
          "name": "stdout",
          "text": [
            "The price after 5% discount is $1140\n",
            "The price after 10% discount is $1080\n",
            "The price after 15% discount is $1020\n",
            "The price after 20% discount is $960\n"
          ]
        }
      ]
    },
    {
      "cell_type": "code",
      "source": [
        "i =5\n",
        "count = 0\n",
        "while (i > 0):\n",
        "  i= i-1\n",
        "  count = count + 1\n",
        "print(count)\n",
        "\n",
        "\n",
        "x = [1, 2, 3, 4, 5]\n",
        "while x:\n",
        "  print(x.pop(0 ))\n"
      ],
      "metadata": {
        "id": "-W3VjVqbsa2A",
        "outputId": "b20cf9bd-9be3-44ae-dba2-7eab28cf8a5a",
        "colab": {
          "base_uri": "https://localhost:8080/"
        }
      },
      "execution_count": 5,
      "outputs": [
        {
          "output_type": "stream",
          "name": "stdout",
          "text": [
            "5\n",
            "1\n",
            "2\n",
            "3\n",
            "4\n",
            "5\n"
          ]
        }
      ]
    },
    {
      "cell_type": "code",
      "source": [
        "## List Comprehensions ##\n",
        "\n",
        "discounted_price_list = []\n",
        "\n",
        "for i in price_list:\n",
        "  discount_price = i - (i*(5/100))\n",
        "  discounted_price_list.append(discount_price)\n",
        "\n",
        "print(discounted_price_list)\n",
        "\n",
        "\n",
        "list_comprehension = [i - (i*(5/100)) for i in price_list]\n",
        "print(list_comprehension)\n",
        "\n",
        "week_list = [\"Week\" + str(i) for i in range(5)]\n",
        "print(week_list)"
      ],
      "metadata": {
        "id": "GYs3JXxpVhsH",
        "outputId": "3d08fdca-a1b0-4814-85df-c102a60206c5",
        "colab": {
          "base_uri": "https://localhost:8080/"
        }
      },
      "execution_count": 14,
      "outputs": [
        {
          "output_type": "stream",
          "name": "stdout",
          "text": [
            "[855.0, 854.05, 570.0, 950.0]\n",
            "[855.0, 854.05, 570.0, 950.0]\n",
            "['Week0', 'Week1', 'Week2', 'Week3', 'Week4']\n"
          ]
        }
      ]
    },
    {
      "cell_type": "code",
      "source": [
        "## Functions ##\n",
        "\n",
        "def test_func():\n",
        "  ''' This is a test function '''\n",
        "  #print(\"This is a test function\")\n",
        "\n",
        "test_func()\n",
        "\n",
        "def func(a):\n",
        "  print(a)\n",
        "\n",
        "A =[0, 1, 2, 3]\n",
        "func(A)\n",
        "\n",
        "def say(message, times):\n",
        "  print(message*times)\n",
        "\n",
        "say(\"How are you\", 2)\n"
      ],
      "metadata": {
        "id": "WVoRBEF4hKln",
        "outputId": "91cc3020-137b-46e2-e37e-1bdee63a52cb",
        "colab": {
          "base_uri": "https://localhost:8080/"
        }
      },
      "execution_count": 18,
      "outputs": [
        {
          "output_type": "stream",
          "name": "stdout",
          "text": [
            "[0, 1, 2, 3]\n",
            "How are youHow are you\n"
          ]
        }
      ]
    },
    {
      "cell_type": "code",
      "source": [
        "def disc_price(discount):\n",
        "  \"\"\"\n",
        "  This functions needs a input parameter of discount percentage and output the discounted price\n",
        "  \"\"\"\n",
        "  price = 1200\n",
        "  discount_price = price - (price*(discount/100))\n",
        "  return discount_price\n",
        "\n",
        "disc_price(5)"
      ],
      "metadata": {
        "id": "pr-TNhwqQqmG",
        "outputId": "e0bb4c7f-6ed9-49d1-971b-61fbc641b816",
        "colab": {
          "base_uri": "https://localhost:8080/"
        }
      },
      "execution_count": 20,
      "outputs": [
        {
          "output_type": "execute_result",
          "data": {
            "text/plain": [
              "1140.0"
            ]
          },
          "metadata": {},
          "execution_count": 20
        }
      ]
    },
    {
      "cell_type": "code",
      "source": [
        "price_after_disc = lambda discount : price - (price*(discount/100))\n",
        "price_after_disc(5)\n",
        "\n",
        "(lambda X : (X+2)*5/2)(4)"
      ],
      "metadata": {
        "id": "zVNwTLTZRZVC",
        "outputId": "d593f85d-494a-46e3-9abf-fcbd4ded08c1",
        "colab": {
          "base_uri": "https://localhost:8080/"
        }
      },
      "execution_count": 23,
      "outputs": [
        {
          "output_type": "execute_result",
          "data": {
            "text/plain": [
              "15.0"
            ]
          },
          "metadata": {},
          "execution_count": 23
        }
      ]
    },
    {
      "cell_type": "code",
      "source": [
        "## args ###\n",
        "\n",
        "#def total_amount(price1, price2, price3, price4):\n",
        " # return price1 + price2 + price3 + price4\n",
        "\n",
        "def total_amount(*args):\n",
        "  total = 0\n",
        "  for arg in args:\n",
        "    total += arg\n",
        "  return total\n",
        "\n",
        "#total_amount(100, 200, 300, 400)\n",
        "total_amount(900, 100, 200, 300, 400, 500,600)"
      ],
      "metadata": {
        "id": "RXrTffuXsljF",
        "outputId": "613ce3a0-25e6-416d-ca58-87532b1ff680",
        "colab": {
          "base_uri": "https://localhost:8080/"
        }
      },
      "execution_count": 28,
      "outputs": [
        {
          "output_type": "execute_result",
          "data": {
            "text/plain": [
              "3000"
            ]
          },
          "metadata": {},
          "execution_count": 28
        }
      ]
    },
    {
      "cell_type": "code",
      "source": [
        "def fun(var1=2, var2=4):\n",
        "  #var2 = 6\n",
        "  #var1 = 5\n",
        "  print(var1, var2)\n",
        "\n",
        "fun(7, 9)"
      ],
      "metadata": {
        "id": "CiEiGmuPureq",
        "outputId": "b4df5e5f-0591-4b6c-89ea-e844b76754d9",
        "colab": {
          "base_uri": "https://localhost:8080/"
        }
      },
      "execution_count": 3,
      "outputs": [
        {
          "output_type": "stream",
          "name": "stdout",
          "text": [
            "7 9\n"
          ]
        }
      ]
    },
    {
      "cell_type": "code",
      "source": [
        "def total_cust_spend(*prices, **kwargs):\n",
        "  total = 0\n",
        "\n",
        "  for price in prices:\n",
        "    total += price\n",
        "\n",
        "  net_spend = total - total*(kwargs['discount']/100) - kwargs['cashback']\n",
        "\n",
        "  if total >= 10000:\n",
        "    reward_points = 300\n",
        "  elif total >= 5000:\n",
        "    reward_points = 2000\n",
        "  else:\n",
        "    reward_points = 100\n",
        "\n",
        "  return total, net_spend, reward_points\n",
        "kwargs = {'discount': 10, 'cashback': 100}\n",
        "total, net_spend, reward_points = total_cust_spend(1200, 1400, **kwargs)\n",
        "#total_cust_spend(1200, 1400, discount= 10, cashback= 100)\n",
        "#\n",
        "print(\" The total cost is $\", str(total), \"\\n The discounted price is $\", net_spend, \"\\n The reward points earned are \", reward_points, sep='')"
      ],
      "metadata": {
        "id": "QsROd9EV9Opl",
        "outputId": "4f802845-9371-4f03-8a56-86afaea64a60",
        "colab": {
          "base_uri": "https://localhost:8080/"
        }
      },
      "execution_count": 9,
      "outputs": [
        {
          "output_type": "stream",
          "name": "stdout",
          "text": [
            " The total cost is $2600\n",
            " The discounted price is $2240.0\n",
            " The reward points earned are 100\n"
          ]
        }
      ]
    },
    {
      "cell_type": "code",
      "source": [
        "car = {\"brand\" : \"Audi\", \"model\" : \"Q2\", \"year\" : 1980}\n",
        "print(car)\n",
        "\n",
        "#car[\"year\"] = 2019\n",
        "#car{\"year\"} = 2019\n",
        "\n"
      ],
      "metadata": {
        "id": "uPYeuKNnVdqt",
        "outputId": "1f776e59-75a0-4f72-ef32-599d057f30ff",
        "colab": {
          "base_uri": "https://localhost:8080/"
        }
      },
      "execution_count": 14,
      "outputs": [
        {
          "output_type": "stream",
          "name": "stdout",
          "text": [
            "{'brand': 'Audi', 'model': 'Q2', 'year': 1980}\n"
          ]
        }
      ]
    }
  ]
}