{
  "nbformat": 4,
  "nbformat_minor": 0,
  "metadata": {
    "colab": {
      "provenance": [],
      "authorship_tag": "ABX9TyMOurOb4z5IvqKy3mhM/nmU",
      "include_colab_link": true
    },
    "kernelspec": {
      "name": "python3",
      "display_name": "Python 3"
    },
    "language_info": {
      "name": "python"
    }
  },
  "cells": [
    {
      "cell_type": "markdown",
      "metadata": {
        "id": "view-in-github",
        "colab_type": "text"
      },
      "source": [
        "<a href=\"https://colab.research.google.com/github/roneshpra/PythonLearning/blob/Dev/PythonBasics/Python_Wk1.ipynb\" target=\"_parent\"><img src=\"https://colab.research.google.com/assets/colab-badge.svg\" alt=\"Open In Colab\"/></a>"
      ]
    },
    {
      "cell_type": "code",
      "execution_count": null,
      "metadata": {
        "id": "LeaUnFQ4ZW-4"
      },
      "outputs": [],
      "source": []
    },
    {
      "cell_type": "markdown",
      "source": [
        "This is Text cell\n",
        "\n",
        "# header\n",
        "## SubHeader\n",
        "### Sub-SubHeader\n",
        "\n",
        "\n",
        "Create a unordered list using *\n",
        "* Apple\n",
        "* Oranges\n",
        "* Grapes\n",
        "* Avacados\n",
        "* Nectarines\n",
        "* Peaches"
      ],
      "metadata": {
        "id": "haqhkbg_ZlEn"
      }
    },
    {
      "cell_type": "code",
      "source": [
        "2+1\n",
        "3+4\n",
        "print(2+2)\n",
        "print(\"Hello\", \"World\" + \"!\")\n",
        "print('Hello', 'World!')\n",
        "print(\"Hello\", 'World!')\n",
        "print(\"str\"+ \"2\")\n",
        "\n",
        "# Use hashtag to comment."
      ],
      "metadata": {
        "colab": {
          "base_uri": "https://localhost:8080/"
        },
        "id": "4suO020TexXy",
        "outputId": "d22266c3-4b75-4644-f63e-88fa3a22e535"
      },
      "execution_count": 10,
      "outputs": [
        {
          "output_type": "stream",
          "name": "stdout",
          "text": [
            "4\n",
            "Hello World!\n",
            "Hello World!\n",
            "Hello World!\n",
            "str2\n"
          ]
        }
      ]
    },
    {
      "cell_type": "code",
      "source": [
        "### Variables ###\n",
        "price = 1100\n",
        "brand = \"Apple\"\n",
        "ram = 8\n",
        "storage = 128\n",
        "is_billed = True\n",
        "print(\"The price of the phone is $\", price, sep='')\n",
        "print(\"The brand of the phone is\", brand, \".\\nThe RAM on the phone is\", ram, \"GB and storage is\", storage, \"GB\")\n",
        "type(is_billed)"
      ],
      "metadata": {
        "colab": {
          "base_uri": "https://localhost:8080/"
        },
        "id": "i8b_VqYLjVOe",
        "outputId": "426b02b5-af92-494b-b459-3ba3419743e8"
      },
      "execution_count": 16,
      "outputs": [
        {
          "output_type": "stream",
          "name": "stdout",
          "text": [
            "The price of the phone is $1100\n",
            "The brand of the phone is Apple .\n",
            "The RAM on the phone is 8 GB and storage is 128 GB\n"
          ]
        },
        {
          "output_type": "execute_result",
          "data": {
            "text/plain": [
              "bool"
            ]
          },
          "metadata": {},
          "execution_count": 16
        }
      ]
    }
  ]
}