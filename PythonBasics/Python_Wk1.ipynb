{
  "cells": [
    {
      "cell_type": "markdown",
      "metadata": {
        "colab_type": "text",
        "id": "view-in-github"
      },
      "source": [
        "<a href=\"https://colab.research.google.com/github/roneshpra/PythonLearning/blob/Dev/PythonBasics/Python_Wk1.ipynb\" target=\"_parent\"><img src=\"https://colab.research.google.com/assets/colab-badge.svg\" alt=\"Open In Colab\"/></a>"
      ]
    },
    {
      "cell_type": "code",
      "execution_count": null,
      "metadata": {
        "id": "LeaUnFQ4ZW-4"
      },
      "outputs": [],
      "source": []
    },
    {
      "cell_type": "markdown",
      "metadata": {
        "id": "haqhkbg_ZlEn"
      },
      "source": [
        "This is Text cell\n",
        "\n",
        "# header\n",
        "## SubHeader\n",
        "### Sub-SubHeader\n",
        "\n",
        "\n",
        "Create a unordered list using *\n",
        "* Apple\n",
        "* Oranges\n",
        "* Grapes\n",
        "* Avacados\n",
        "* Nectarines\n",
        "* Peaches"
      ]
    },
    {
      "cell_type": "code",
      "execution_count": null,
      "metadata": {
        "colab": {
          "base_uri": "https://localhost:8080/"
        },
        "id": "4suO020TexXy",
        "outputId": "d22266c3-4b75-4644-f63e-88fa3a22e535"
      },
      "outputs": [
        {
          "name": "stdout",
          "output_type": "stream",
          "text": [
            "4\n",
            "Hello World!\n",
            "Hello World!\n",
            "Hello World!\n",
            "str2\n"
          ]
        }
      ],
      "source": [
        "2+1\n",
        "3+4\n",
        "print(2+2)\n",
        "print(\"Hello\", \"World\" + \"!\")\n",
        "print('Hello', 'World!')\n",
        "print(\"Hello\", 'World!')\n",
        "print(\"str\"+ \"2\")\n",
        "\n",
        "# Use hashtag to comment."
      ]
    },
    {
      "cell_type": "code",
      "execution_count": null,
      "metadata": {
        "colab": {
          "base_uri": "https://localhost:8080/"
        },
        "id": "i8b_VqYLjVOe",
        "outputId": "426b02b5-af92-494b-b459-3ba3419743e8"
      },
      "outputs": [
        {
          "name": "stdout",
          "output_type": "stream",
          "text": [
            "The price of the phone is $1100\n",
            "The brand of the phone is Apple .\n",
            "The RAM on the phone is 8 GB and storage is 128 GB\n"
          ]
        },
        {
          "data": {
            "text/plain": [
              "bool"
            ]
          },
          "execution_count": 16,
          "metadata": {},
          "output_type": "execute_result"
        }
      ],
      "source": [
        "### Variables ###\n",
        "price = 1100\n",
        "brand = \"Apple\"\n",
        "ram = 8\n",
        "storage = 128\n",
        "is_billed = True\n",
        "print(\"The price of the phone is $\", price, sep='')\n",
        "print(\"The brand of the phone is\", brand, \".\\nThe RAM on the phone is\", ram, \"GB and storage is\", storage, \"GB\")\n",
        "type(is_billed)"
      ]
    },
    {
      "cell_type": "code",
      "execution_count": 6,
      "metadata": {
        "colab": {
          "base_uri": "https://localhost:8080/"
        },
        "id": "b99DK67t_59k",
        "outputId": "1c24bfa1-af65-4754-e786-f64600426ca3"
      },
      "outputs": [
        {
          "name": "stdout",
          "output_type": "stream",
          "text": [
            "450.0\n",
            "450\n",
            "<class 'float'>\n"
          ]
        }
      ],
      "source": [
        "#type(price)\n",
        "a = 900/2\n",
        "b = 900//2\n",
        "print(a)\n",
        "print(b)\n",
        "print(type(a))\n"
      ]
    },
    {
      "cell_type": "code",
      "execution_count": 5,
      "metadata": {
        "colab": {
          "base_uri": "https://localhost:8080/"
        },
        "id": "xy7ko6xtCKeE",
        "outputId": "392ecd59-119c-4780-a3ff-9264c7f1efc9"
      },
      "outputs": [
        {
          "name": "stdout",
          "output_type": "stream",
          "text": [
            "a is of type <class 'int'> and c is of type <class 'float'>\n"
          ]
        }
      ],
      "source": [
        "a = 30\n",
        "b = 8\n",
        "c = a/b\n",
        "print(\"a is of type\",type(a), \"and c is of type\", type(c) )"
      ]
    },
    {
      "cell_type": "code",
      "execution_count": 9,
      "metadata": {
        "colab": {
          "base_uri": "https://localhost:8080/",
          "height": 35
        },
        "id": "chusYOFwCnQ9",
        "outputId": "91c78693-0173-46d5-acef-a0926bd93e3c"
      },
      "outputs": [
        {
          "data": {
            "application/vnd.google.colaboratory.intrinsic+json": {
              "type": "string"
            },
            "text/plain": [
              "'450.0'"
            ]
          },
          "execution_count": 9,
          "metadata": {},
          "output_type": "execute_result"
        }
      ],
      "source": [
        "## type coversions\n",
        "d = str(a)\n",
        "d"
      ]
    },
    {
      "cell_type": "code",
      "execution_count": 23,
      "metadata": {
        "colab": {
          "base_uri": "https://localhost:8080/"
        },
        "id": "M6Jw4NHUIJn4",
        "outputId": "ae646d01-5b49-4333-a758-62f2f3713eae"
      },
      "outputs": [
        {
          "name": "stdout",
          "output_type": "stream",
          "text": [
            "The minimum price is  600\n",
            "Range\n",
            "2\n",
            "['Great', -54, 11]\n",
            "[11]\n"
          ]
        }
      ],
      "source": [
        "## Data Structures ##\n",
        "# List #\n",
        "\n",
        "brand_list = ['Apple', 'Samsung', 'LG', 'Apple']\n",
        "ram_list = [4, 12, 8, 8]\n",
        "storage_list = [128, 128, 64, 128]\n",
        "price_list = [900, 899, 600, 1000]\n",
        "\n",
        "len(brand_list)\n",
        "min_price = min(price_list)\n",
        "print(\"The minimum price is \", min_price)\n",
        "brand_list.pop()\n",
        "brand_list.append(\"Motorola\")\n",
        "brand_list\n",
        "\n",
        "x = [10, \"Range\", \"Great\", -54, 11, 12]\n",
        "print(x[1])\n",
        "print(len(x[2:4]))\n",
        "print(x[2:-1])\n",
        "print(x[-2:-1])"
      ]
    },
    {
      "cell_type": "code",
      "execution_count": null,
      "metadata": {
        "colab": {
          "base_uri": "https://localhost:8080/"
        },
        "id": "XvHhzItWW5F7",
        "outputId": "95849d1a-9db6-45b0-bf42-0289128494bc"
      },
      "outputs": [
        {
          "data": {
            "text/plain": [
              "7"
            ]
          },
          "execution_count": 26,
          "metadata": {},
          "output_type": "execute_result"
        }
      ],
      "source": [
        "# Tuple #\n",
        "a = (1, 3, 4, 7, 8, 9)\n",
        "type(a)\n",
        "a[3]"
      ]
    },
    {
      "cell_type": "code",
      "execution_count": null,
      "metadata": {
        "colab": {
          "base_uri": "https://localhost:8080/"
        },
        "id": "mccAIre2aDRj",
        "outputId": "439257a3-c13e-4d94-b277-d96476c0d8b8"
      },
      "outputs": [
        {
          "name": "stdout",
          "output_type": "stream",
          "text": [
            "dict_keys(['Name', 'LastName', 'Age'])\n",
            "dict_values([['Ronesh', 'Pranitha', 'Tisha', 'Tara'], ['Bhandari', 'Chitturu', 'Sharma', 'Bhandari'], [40, 38, 7, 1]])\n",
            "Age of  Tisha Sharma is 7\n",
            "{'Name': ['Ronesh', 'Pranitha', 'Tisha', 'Tara'], 'LastName': ['Bhandari', 'Chitturu', 'Sharma', 'Bhandari'], 'Age': [40, 38, 7, 1]}\n"
          ]
        }
      ],
      "source": [
        "# Dictionary #\n",
        "candidates = {\n",
        "    'Name': ['Ronesh', 'Pranitha', 'Tisha', 'Tara'],\n",
        "    'LastName': ['Bhandari', 'Chitturu', 'Sharma', 'Verma'],\n",
        "    'Age': [40, 38, 7, 1]\n",
        "}\n",
        "\n",
        "type(candidates)\n",
        "candidates['Name'][2]\n",
        "candidates['LastName'][3] = 'Bhandari'\n",
        "candidates\n",
        "print(candidates.keys())\n",
        "print(candidates.values())\n",
        "print(\"Age of \", candidates['Name'][2], candidates['LastName'][2], \"is\", candidates[\"Age\"][2])\n",
        "print(candidates)"
      ]
    }
  ],
  "metadata": {
    "colab": {
      "authorship_tag": "ABX9TyO9l75v3hkr8d1bK2ABOmwB",
      "include_colab_link": true,
      "provenance": []
    },
    "kernelspec": {
      "display_name": "Python 3",
      "name": "python3"
    },
    "language_info": {
      "name": "python"
    }
  },
  "nbformat": 4,
  "nbformat_minor": 0
}
